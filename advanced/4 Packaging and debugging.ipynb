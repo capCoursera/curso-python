{
 "cells": [
  {
   "cell_type": "markdown",
   "metadata": {},
   "source": [
    "# Packaging\n",
    "- **Distribute** is a fork of the Setuptools project.\n",
    "    - Distribute is intended to replace Setuptools as the standard method for\n",
    "       working with Python module distributions.\n",
    "\n",
    "- **Setuptools**: download, build, install, upgrade, and uninstall Python packages -- easily!\n",
    "\n",
    "     - The main feature is the setup.py scripts calling 'setuptools.setup' function\n",
    "\n",
    "- There is an initiative to create a standard packaging and distribution tool\n",
    "    integrated in the core in Python 3.4 ( http://www.python.org/dev/peps/pep-0426/ )\n"
   ]
  },
  {
   "cell_type": "code",
   "execution_count": null,
   "metadata": {
    "collapsed": false
   },
   "outputs": [],
   "source": [
    "# EXERCISE:\n",
    "# Download and decompress pep8 and requests eggs:\n",
    "!mkdir -p tmp_eggs\n",
    "#git clone git@github.com:PyCQA/pycodestyle.git\n",
    "#git clone git@github.com:kennethreitz/requests.git\n",
    "\n",
    "# - Check their setup.py and how it calls the setup function:\n",
    "#\n",
    "# - Check...\n",
    "#    - All the '*_requires' arguments\n",
    "#    - The 'entry_points' argument in pep8\n",
    "#    - The auxiliary functions used\n",
    "\n",
    "# - Create pep8 egg and RPM\n",
    "#    $ python setup.py  bdist_egg\n",
    "#    $ python setup.py  bdist_rpm  # Requires rpm-build\n",
    "#\n"
   ]
  },
  {
   "cell_type": "markdown",
   "metadata": {},
   "source": [
    "# Debugging"
   ]
  },
  {
   "cell_type": "markdown",
   "metadata": {},
   "source": [
    "- **pdb** is Python's interactive debugger\n",
    "- It provides command line and programmatic interfaces"
   ]
  },
  {
   "cell_type": "code",
   "execution_count": null,
   "metadata": {
    "collapsed": true
   },
   "outputs": [],
   "source": [
    "# EXERCISE:\n",
    "# - Execute mod_debugging.py with pdb from command line:\n",
    "#    $ python -m pdb mod_debugging.py\n",
    "#\n",
    "# - Type 'h' or 'help' to check available debugger commands\n",
    "# - Type 'next' several times and check the backtrace"
   ]
  },
  {
   "cell_type": "code",
   "execution_count": null,
   "metadata": {
    "collapsed": false
   },
   "outputs": [],
   "source": [
    "# EXERCISE:\n",
    "# - Execute mod_debugging.caller_func with pdb from a Python interpreter:\n",
    "#    $ python\n",
    "#     >>> import pdb\n",
    "#     >>> import mod_debugging\n",
    "#     >>> pdb.run('mod_debugging.caller_func()')\n",
    "#     > <string>(1)<module>()\n",
    "#     (Pdb)\n",
    "#\n",
    "# - Type 'h' or 'help' to check available debugger commands\n",
    "# - Type 'next' and check the backtrace"
   ]
  },
  {
   "cell_type": "code",
   "execution_count": null,
   "metadata": {
    "collapsed": false
   },
   "outputs": [],
   "source": [
    "import ipdb  # Much better than standard library debugger"
   ]
  },
  {
   "cell_type": "code",
   "execution_count": null,
   "metadata": {
    "collapsed": true
   },
   "outputs": [],
   "source": [
    "# EXERCISE:\n",
    "# - Execute this file with Python\n",
    "#    $ python mod_debugging_2.py\n",
    "#\n",
    "# - Type 'h' or 'help' to check available debugger commands\n",
    "#    - Besides debugger commands you can execute Python code, check variables...\n",
    "# - Try to call another_func(123, 456)\n",
    "# - Check the backtrace"
   ]
  },
  {
   "cell_type": "code",
   "execution_count": null,
   "metadata": {
    "collapsed": true
   },
   "outputs": [],
   "source": []
  }
 ],
 "metadata": {
  "kernelspec": {
   "display_name": "Python 2",
   "language": "python",
   "name": "python2"
  },
  "language_info": {
   "codemirror_mode": {
    "name": "ipython",
    "version": 2
   },
   "file_extension": ".py",
   "mimetype": "text/x-python",
   "name": "python",
   "nbconvert_exporter": "python",
   "pygments_lexer": "ipython2",
   "version": "2.7.12"
  }
 },
 "nbformat": 4,
 "nbformat_minor": 1
}
