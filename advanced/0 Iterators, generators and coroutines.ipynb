{
 "cells": [
  {
   "cell_type": "markdown",
   "metadata": {
    "collapsed": true
   },
   "source": [
    "## - Iterators are easy to understand"
   ]
  },
  {
   "cell_type": "code",
   "execution_count": null,
   "metadata": {
    "collapsed": false
   },
   "outputs": [],
   "source": [
    "spam = [0, 1, 2, 3, 4]\n",
    "\n",
    "for item in spam:\n",
    "    print item\n",
    "else:\n",
    "    print \"Looped whole list\""
   ]
  },
  {
   "cell_type": "code",
   "execution_count": null,
   "metadata": {
    "collapsed": false
   },
   "outputs": [],
   "source": [
    "# What is really happening here?\n",
    "\n",
    "\n",
    "it = iter(spam)                            # Obtain an iterator\n",
    "try:\n",
    "    item = it.next()                      # Retrieve first item through the iterator\n",
    "    while True:\n",
    "        # Body of the for loop goes here\n",
    "        print item\n",
    "        item = it.next()                  # Retrieve next item through the iterator\n",
    "except StopIteration:                     # Capture iterator exception\n",
    "    # Body of the else clause goes here\n",
    "    print \"Looped whole list\"\n"
   ]
  },
  {
   "cell_type": "code",
   "execution_count": null,
   "metadata": {
    "collapsed": true
   },
   "outputs": [],
   "source": [
    "# Another example\n",
    "\n",
    "spam = \"spam\"\n",
    "it = iter(spam)"
   ]
  },
  {
   "cell_type": "code",
   "execution_count": null,
   "metadata": {
    "collapsed": false
   },
   "outputs": [],
   "source": [
    "print it.next()\n",
    "print it.next()\n",
    "print it.next()\n",
    "print it.next()"
   ]
  },
  {
   "cell_type": "code",
   "execution_count": null,
   "metadata": {
    "collapsed": false
   },
   "outputs": [],
   "source": [
    "# Once the StopIteration is raised an iterator is useless, there is no 'restart'\n",
    "print it.next()"
   ]
  },
  {
   "cell_type": "markdown",
   "metadata": {},
   "source": [
    "## Python Generators"
   ]
  },
  {
   "cell_type": "code",
   "execution_count": null,
   "metadata": {
    "collapsed": false
   },
   "outputs": [],
   "source": [
    "# expression generator\n",
    "\n",
    "spam = [0, 1, 2, 3, 4]\n",
    "fooo = (2 ** s for s in spam)  # Syntax similar to list comprehension but between parentheses\n",
    "print fooo"
   ]
  },
  {
   "cell_type": "code",
   "execution_count": null,
   "metadata": {
    "collapsed": false
   },
   "outputs": [],
   "source": [
    "print fooo.next()\n",
    "print fooo.next()\n",
    "print fooo.next()\n",
    "print fooo.next()\n",
    "print fooo.next()"
   ]
  },
  {
   "cell_type": "code",
   "execution_count": null,
   "metadata": {
    "collapsed": false
   },
   "outputs": [],
   "source": [
    "# Generator is exhausted\n",
    "print fooo.next()"
   ]
  },
  {
   "cell_type": "markdown",
   "metadata": {},
   "source": [
    " - Generators are a simple and powerful tool for creating iterators.\n",
    " - Each iteration is computed on demand\n",
    " - In general terms they are more efficient than list comprehension or loops\n",
    "    - If not the whole sequence is traversed\n",
    "        - When looking for a certain element\n",
    "        - When an exception is raised\n",
    "    - So they save computing power and memory\n",
    " - Used to operate with I/O, with big amounts of data (e.g. DB queries)..."
   ]
  },
  {
   "cell_type": "markdown",
   "metadata": {},
   "source": [
    "## yield"
   ]
  },
  {
   "cell_type": "code",
   "execution_count": null,
   "metadata": {
    "collapsed": true
   },
   "outputs": [],
   "source": []
  }
 ],
 "metadata": {
  "kernelspec": {
   "display_name": "Python 2",
   "language": "python",
   "name": "python2"
  },
  "language_info": {
   "codemirror_mode": {
    "name": "ipython",
    "version": 2
   },
   "file_extension": ".py",
   "mimetype": "text/x-python",
   "name": "python",
   "nbconvert_exporter": "python",
   "pygments_lexer": "ipython2",
   "version": "2.7.12"
  }
 },
 "nbformat": 4,
 "nbformat_minor": 1
}
