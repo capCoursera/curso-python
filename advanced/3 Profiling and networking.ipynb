{
 "cells": [
  {
   "cell_type": "markdown",
   "metadata": {},
   "source": [
    "# Profiling"
   ]
  },
  {
   "cell_type": "code",
   "execution_count": null,
   "metadata": {
    "collapsed": false
   },
   "outputs": [],
   "source": [
    "# EXERCISE:\n",
    "# Execute the following command:\n",
    "!python -m timeit '\"-\".join([str(n) for n in range(100)])'\n",
    "\n",
    "# Now execute the following:\n",
    "!python -m timeit '\"-\".join(map(str, range(100)))'\n",
    "\n",
    "# Now execute:\n",
    "!python -m timeit --setup 'func = lambda n: \"-\".join(map(str, range(n)))' 'func(100)'\n",
    "\n",
    "# And finally:\n",
    "!python -m timeit --setup 'func = lambda n: \"-\".join(map(str, xrange(n)))' 'func(100)'"
   ]
  },
  {
   "cell_type": "markdown",
   "metadata": {},
   "source": [
    "### timeit module:\n",
    "   - Provides a simple way to time the execution of Python statements.\n",
    "   - Provides both command line and programatic interfaces."
   ]
  },
  {
   "cell_type": "code",
   "execution_count": null,
   "metadata": {
    "collapsed": false
   },
   "outputs": [],
   "source": [
    "import timeit\n",
    "print timeit.timeit(stmt='func(100)', setup='func = lambda n: \"-\".join(map(str, xrange(n)))', number=10000)"
   ]
  },
  {
   "cell_type": "code",
   "execution_count": null,
   "metadata": {
    "collapsed": true
   },
   "outputs": [],
   "source": [
    "def fibonacci(n):\n",
    "    \"\"\"Return the nth fibonacci number\"\"\"\n",
    "    if n < 2:\n",
    "        return n\n",
    "    return fibonacci(n - 1) + fibonacci(n - 2)\n",
    "\n",
    "\n",
    "def fib_15():\n",
    "    return fibonacci(15)"
   ]
  },
  {
   "cell_type": "code",
   "execution_count": null,
   "metadata": {
    "collapsed": false
   },
   "outputs": [],
   "source": [
    "print timeit.timeit(stmt=fib_15, number=100)"
   ]
  },
  {
   "cell_type": "code",
   "execution_count": null,
   "metadata": {
    "collapsed": false
   },
   "outputs": [],
   "source": [
    "# Actually, a Timer class is provided inside timeit module\n",
    "\n",
    "t = timeit.Timer(stmt=fib_15)\n",
    "print t.repeat(repeat=3, number=100)"
   ]
  },
  {
   "cell_type": "code",
   "execution_count": null,
   "metadata": {
    "collapsed": false
   },
   "outputs": [],
   "source": [
    "# EXERCISE:\n",
    "# Execute the following command:\n",
    "!python -m cProfile fib_fac.py\n",
    "\n",
    "# Now execute the following:\n",
    "!python -m cProfile -s time fib_fac.py\n",
    "\n",
    "# Now execute:\n",
    "!python -m cProfile -s cumulative fib_fac.py\n",
    "\n",
    "# And finally:\n",
    "!python -m cProfile -s calls fib_fac.py"
   ]
  },
  {
   "cell_type": "markdown",
   "metadata": {},
   "source": [
    "### cProfile:\n",
    "- Deterministic profiling of Python programs.\n",
    "- C extension with reasonable overhead.\n",
    "- Provides both command line and programatic interfaces.\n",
    "\n",
    "- There is a pure Python alternative module with the same interface: profile"
   ]
  },
  {
   "cell_type": "code",
   "execution_count": null,
   "metadata": {
    "collapsed": true
   },
   "outputs": [],
   "source": [
    "import cProfile\n",
    "import pstats\n",
    "\n",
    "\n",
    "filename = \"cprofile_fib_fac.log\"\n",
    "max_num_lines = 3"
   ]
  },
  {
   "cell_type": "code",
   "execution_count": null,
   "metadata": {
    "collapsed": false
   },
   "outputs": [],
   "source": [
    "# Note that in normal execution the import is not needed inside the statement string (incompatibility with pydemo)\n",
    "cProfile.run(statement=\"from fib_fac import fib_fac; fib_fac()\", filename=filename)"
   ]
  },
  {
   "cell_type": "code",
   "execution_count": null,
   "metadata": {
    "collapsed": false
   },
   "outputs": [],
   "source": [
    "stats = pstats.Stats(filename)\n",
    "stats.strip_dirs().sort_stats('time').print_stats(max_num_lines)\n",
    "stats.strip_dirs().sort_stats('cumulative').print_stats(max_num_lines)\n",
    "stats.strip_dirs().sort_stats('calls').print_stats(max_num_lines)"
   ]
  },
  {
   "cell_type": "markdown",
   "metadata": {},
   "source": [
    "### Use pstats.Stats to parse and print cProfile output\n",
    "- You can sort the records:\n",
    "   - time: single execution time of a function\n",
    "   - cumulative: accumulated execution time of a function\n",
    "   - calls: number of times a function was called\n",
    "   - Others: http://docs.python.org/2/library/profile.html#pstats.Stats.sort_stats"
   ]
  },
  {
   "cell_type": "code",
   "execution_count": null,
   "metadata": {
    "collapsed": false
   },
   "outputs": [],
   "source": [
    "# Exercise: which option is better\n",
    "def opc1():\n",
    "    fruits = tuple(str(i) for i in xrange(100))\n",
    "    out = ''\n",
    "    for fruit in fruits:\n",
    "        out += fruit +':'\n",
    "    return out\n",
    "\n",
    "def opc2():\n",
    "    format_str = '%s:' * 100\n",
    "    fruits = tuple(str(i) for i in xrange(100))\n",
    "    out = format_str % fruits\n",
    "    return out\n",
    "\n",
    "def opc3():\n",
    "    format_str = '{}:' * 100\n",
    "    fruits = tuple(str(i) for i in xrange(100))\n",
    "    out = format_str.format(*fruits)\n",
    "    return out\n",
    "\n",
    "def opc4():\n",
    "    fruits = tuple(str(i) for i in xrange(100))\n",
    "    out = ':'.join(fruits)\n",
    "    return out"
   ]
  },
  {
   "cell_type": "markdown",
   "metadata": {},
   "source": [
    "# Networking"
   ]
  },
  {
   "cell_type": "markdown",
   "metadata": {},
   "source": [
    "### Standard library provides some modules for network operation:\n",
    "\n",
    "- **socket**: provides access to the low-level C BSD socket interface, includes\n",
    "    a 'socket' class and some useful functions\n",
    "\n",
    "- **urllib2**: a library to perform HTTP requests (get, post, multipart...)\n",
    "\n",
    "- **httplib**: client side libraries of HTTP and HTTPS protocols, used by urllib2\n",
    "\n",
    "- **urlparse**: library with functions to parse URLs\n",
    "\n",
    "- Note that in Py3k urlparse, urllib and urllib2 have been merged in package urllib"
   ]
  },
  {
   "cell_type": "code",
   "execution_count": null,
   "metadata": {
    "collapsed": false
   },
   "outputs": [],
   "source": [
    "import socket\n",
    "\n",
    "\n",
    "# In addition to typical socket class, some useful functions are provided\n",
    "print socket.gethostname()\n",
    "print socket.getfqdn()\n",
    "print socket.gethostbyname(socket.getfqdn())"
   ]
  },
  {
   "cell_type": "code",
   "execution_count": null,
   "metadata": {
    "collapsed": true
   },
   "outputs": [],
   "source": [
    "#Let's see how to perform HTTP requests\n",
    "\n",
    "\n",
    "import requests  # Requests is much better than any other standard library alternative"
   ]
  },
  {
   "cell_type": "code",
   "execution_count": null,
   "metadata": {
    "collapsed": true
   },
   "outputs": [],
   "source": [
    "location = \"41.41,2.22\"\n",
    "key = \"5nrhptjvus6gdnf9e6x75as9\"\n",
    "num_days = 3\n",
    "url_pattern = \"http://api.worldweatheronline.com/free/v1/weather.ashx?q={loc}&format=json&num_of_days={days}&key={key}\"\n",
    "r = requests.get(url=url_pattern.format(loc=location, days=num_days, key=key),\n",
    "                 headers={'content-type': 'application/json'})  # It supports all HTTP methods, auth, proxies, post multipart..."
   ]
  },
  {
   "cell_type": "code",
   "execution_count": null,
   "metadata": {
    "collapsed": false
   },
   "outputs": [],
   "source": [
    "# Let's check the response\n",
    "print r.status_code\n",
    "print r.encoding\n",
    "print r.text"
   ]
  },
  {
   "cell_type": "code",
   "execution_count": null,
   "metadata": {
    "collapsed": false
   },
   "outputs": [],
   "source": [
    "# And of course it parses the JSON\n",
    "print type(r.json())  # Uses simplejson or std lib json"
   ]
  },
  {
   "cell_type": "code",
   "execution_count": null,
   "metadata": {
    "collapsed": false
   },
   "outputs": [],
   "source": [
    "from pprint import pprint\n",
    "pprint(r.json()[\"data\"][\"current_condition\"][0])"
   ]
  },
  {
   "cell_type": "markdown",
   "metadata": {},
   "source": [
    "### compare it with using urllib2\n",
    "https://gist.github.com/kennethreitz/973705\n",
    "\n",
    "- For low level socket operations use 'socket'\n",
    "- Use 'requests' always if possible for HTTP operation\n",
    "- Use 'urllib2' or 'httplib' as a fallback for special behaviour"
   ]
  },
  {
   "cell_type": "code",
   "execution_count": null,
   "metadata": {
    "collapsed": false
   },
   "outputs": [],
   "source": [
    "# Implement a connection pool with requests\n",
    "requestsSession = requests.session()\n",
    "httpAdapter = requests.adapters.HTTPAdapter(pool_connections=10,\n",
    "                                            pool_maxsize=15)\n",
    "requestsSession.mount('http://', httpAdapter)"
   ]
  },
  {
   "cell_type": "code",
   "execution_count": null,
   "metadata": {
    "collapsed": false
   },
   "outputs": [],
   "source": [
    "requestsSession.get(url=url_pattern.format(loc=location, days=num_days, key=key),\n",
    "                 headers={'content-type': 'application/json'})"
   ]
  },
  {
   "cell_type": "markdown",
   "metadata": {},
   "source": [
    "## SOURCES:\n",
    "  - http://docs.python.org/2/library/timeit.html\n",
    "  - http://pymotw.com/2/timeit/\n",
    "  - http://docs.python.org/2/library/profile.html\n",
    "  - http://pymotw.com/2/profile/\n",
    "  - http://docs.python.org/2/library/socket.html\n",
    "  - http://pymotw.com/2/socket/\n",
    "  - http://docs.python.org/2/library/urllib2.html\n",
    "  - http://pymotw.com/2/urllib2/\n",
    "  - http://docs.python.org/2/library/httplib.html\n",
    "  - http://docs.python-requests.org/en/latest/"
   ]
  },
  {
   "cell_type": "code",
   "execution_count": null,
   "metadata": {
    "collapsed": true
   },
   "outputs": [],
   "source": []
  }
 ],
 "metadata": {
  "kernelspec": {
   "display_name": "Python 2",
   "language": "python",
   "name": "python2"
  },
  "language_info": {
   "codemirror_mode": {
    "name": "ipython",
    "version": 2
   },
   "file_extension": ".py",
   "mimetype": "text/x-python",
   "name": "python",
   "nbconvert_exporter": "python",
   "pygments_lexer": "ipython2",
   "version": "2.7.12"
  }
 },
 "nbformat": 4,
 "nbformat_minor": 1
}
