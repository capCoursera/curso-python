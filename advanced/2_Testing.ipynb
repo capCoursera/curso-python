{
 "cells": [
  {
   "cell_type": "code",
   "execution_count": null,
   "metadata": {
    "collapsed": false
   },
   "outputs": [],
   "source": [
    "# EXERCISE:\n",
    "# Execute nosetests in this folder:\n",
    "!nosetests -sv\n",
    "# Exercise: review tests_lib and make the tests to pass\n",
    "# Use this cell"
   ]
  },
  {
   "cell_type": "markdown",
   "metadata": {},
   "source": [
    " - Regarding mocking, in Python monkey patching classes is trivial. It is really\n",
    "    easy to replace instances methods or modules functions with your own stuff.\n",
    " - To use real full-featured mocks use the 'mock' library:\n",
    "    - http://www.voidspace.org.uk/python/mock/\n",
    "    - It was added to Python standard library in 3.3 as 'unittest.mock'\n",
    "        - http://docs.python.org/3/library/unittest.mock.html\n",
    "\n",
    " - mock library allows to replace parts of our code in a safe and easy way with \n",
    "     - mock objects. You can assert how they are called too.\n",
    " - Base class is Mock although is advisable to use MagicMock subclass\n",
    "     - MagicMock has all \"magic\" methods already pre-created\n",
    " - patch utility allow to monkey patching at module and class level within the \n",
    "     scope of test\n",
    " - Let's see a quick example "
   ]
  },
  {
   "cell_type": "code",
   "execution_count": null,
   "metadata": {
    "collapsed": false
   },
   "outputs": [],
   "source": [
    "from mock import MagicMock\n",
    "from lib_to_test import ProductionClass"
   ]
  },
  {
   "cell_type": "code",
   "execution_count": null,
   "metadata": {
    "collapsed": false
   },
   "outputs": [],
   "source": [
    "from mock import MagicMock\n",
    "from lib_to_test import ProductionClass\n",
    "prod = ProductionClass()\n",
    "prod.prod_method = MagicMock(return_value=3)\n",
    "print prod.prod_method(40, 3)\n",
    "prod.prod_method.assert_called_once_with(40, 3)"
   ]
  },
  {
   "cell_type": "code",
   "execution_count": null,
   "metadata": {
    "collapsed": false
   },
   "outputs": [],
   "source": [
    "# with side_effect we can return several values and raise exceptions too\n",
    "prod.prod_method = MagicMock(side_effect=ValueError(\"not number\"))\n",
    "prod.prod_method(\"my_string\")"
   ]
  },
  {
   "cell_type": "code",
   "execution_count": null,
   "metadata": {
    "collapsed": false
   },
   "outputs": [],
   "source": [
    "prod.prod_method = MagicMock(side_effect=[2, 3, 4])\n",
    "prod.prod_method(34, 2)\n",
    "prod.prod_method(34, 2)\n",
    "prod.prod_method(34, 2)"
   ]
  },
  {
   "cell_type": "code",
   "execution_count": null,
   "metadata": {
    "collapsed": true
   },
   "outputs": [],
   "source": [
    "# But we are modifying our source code, we better use patch\n",
    "from mock import patch"
   ]
  },
  {
   "cell_type": "code",
   "execution_count": null,
   "metadata": {
    "collapsed": true
   },
   "outputs": [],
   "source": [
    "import lib_to_test\n",
    "# patch as decorator, provides MagicMock in function decorated\n",
    "@patch('lib_to_test.ProductionClass')\n",
    "def test(mockClass):\n",
    "    lib_to_test.ProductionClass()  # Already imported in module..\n",
    "    print 'ProductionClass {}'.format(lib_to_test.ProductionClass)\n",
    "    assert mockClass is lib_to_test.ProductionClass\n",
    "    print mockClass.called"
   ]
  },
  {
   "cell_type": "code",
   "execution_count": null,
   "metadata": {
    "collapsed": false
   },
   "outputs": [],
   "source": [
    "test()"
   ]
  },
  {
   "cell_type": "code",
   "execution_count": null,
   "metadata": {
    "collapsed": false
   },
   "outputs": [],
   "source": [
    "print lib_to_test.ProductionClass"
   ]
  },
  {
   "cell_type": "code",
   "execution_count": null,
   "metadata": {
    "collapsed": true
   },
   "outputs": [],
   "source": [
    "# We can also use patch for system libraries...\n",
    "import sys\n",
    "\n",
    "# patch as context manager\n",
    "with patch('sys.exit') as exitMock:\n",
    "    try:\n",
    "        sys.exit()\n",
    "    except SystemExit:\n",
    "        print \"exiting programm\"\n",
    "    exitMock.assert_called_once_with()"
   ]
  },
  {
   "cell_type": "code",
   "execution_count": null,
   "metadata": {
    "collapsed": false
   },
   "outputs": [],
   "source": [
    "try:\n",
    "    sys.exit()\n",
    "except SystemExit:\n",
    "    print \"exiting programm\""
   ]
  },
  {
   "cell_type": "code",
   "execution_count": null,
   "metadata": {
    "collapsed": false
   },
   "outputs": [],
   "source": [
    "# we can patch some object, dict, open and magic methods....\n",
    "\n",
    "my_patch = patch.object(prod, 'prod_method')\n",
    "method_mock = my_patch.start()\n",
    "method_mock.return_value = 5000\n",
    "print prod.prod_method(30, 3)"
   ]
  },
  {
   "cell_type": "code",
   "execution_count": null,
   "metadata": {
    "collapsed": false
   },
   "outputs": [],
   "source": [
    "# we stop the patch now ...\n",
    "my_patch.stop()\n",
    "print prod.prod_method\n",
    "print prod.prod_method(30, 3)"
   ]
  },
  {
   "cell_type": "code",
   "execution_count": null,
   "metadata": {
    "collapsed": false
   },
   "outputs": [],
   "source": [
    "# WTF ??, yes before we change ProductionClass inside the module....\n",
    "print prod.prod_method\n",
    "prod = ProductionClass()\n",
    "my_patch = patch.object(prod, 'prod_method')\n",
    "method_mock = my_patch.start()\n",
    "method_mock.return_value = 5000\n",
    "print prod.prod_method(30, 3)\n",
    "my_patch.stop()\n",
    "print prod.prod_method(30, 3)"
   ]
  },
  {
   "cell_type": "code",
   "execution_count": null,
   "metadata": {
    "collapsed": true
   },
   "outputs": [],
   "source": [
    "# magic methods\n",
    "mock = MagicMock()\n",
    "mock.__str__.return_value = 'foobarbaz'\n",
    "cad = str(mock)\n",
    "mock.__str__.assert_called_with()\n",
    "print cad"
   ]
  },
  {
   "cell_type": "code",
   "execution_count": null,
   "metadata": {
    "collapsed": false
   },
   "outputs": [],
   "source": [
    "# dictionary\n",
    "foo = {'key': 'value'}\n",
    "original = foo.copy()\n",
    "with patch.dict(foo, {'newkey': 'newvalue'}, clear=True):\n",
    "    print \"dict foo is now: {}\".format(foo)\n",
    "    assert foo == {'newkey': 'newvalue'}"
   ]
  },
  {
   "cell_type": "code",
   "execution_count": null,
   "metadata": {
    "collapsed": false
   },
   "outputs": [],
   "source": [
    "print \"dict foo is {}\".format(foo)\n",
    "assert foo == original"
   ]
  },
  {
   "cell_type": "code",
   "execution_count": null,
   "metadata": {
    "collapsed": false
   },
   "outputs": [],
   "source": [
    "# open function can be patched tooo....\n",
    "from mock import mock_open\n",
    "\n",
    "# write\n",
    "with patch('__builtin__.open', mock_open()) as m:\n",
    "    with open('foo.txt', 'w') as f:\n",
    "        f.write('something')\n",
    "    print m.mock_calls"
   ]
  },
  {
   "cell_type": "code",
   "execution_count": null,
   "metadata": {
    "collapsed": false
   },
   "outputs": [],
   "source": [
    "import os\n",
    "os.path.exists('foo.txt')"
   ]
  },
  {
   "cell_type": "code",
   "execution_count": null,
   "metadata": {
    "collapsed": false
   },
   "outputs": [],
   "source": [
    "# read\n",
    "with patch('__builtin__.open', mock_open( read_data='foo')) as m:\n",
    "    with open('foo.txt') as f:\n",
    "        file = f.read()\n",
    "    print file"
   ]
  },
  {
   "cell_type": "code",
   "execution_count": null,
   "metadata": {
    "collapsed": false
   },
   "outputs": [],
   "source": [
    "!pip install nose-cov\n",
    "!nosetests -s -v --with-cover --cover-package=lib_to_test"
   ]
  },
  {
   "cell_type": "markdown",
   "metadata": {},
   "source": [
    "## SOURCES:\n",
    "  - http://docs.python.org/2/library/unittest.html\n",
    "  - http://pymotw.com/2/unittest/index.html\n",
    "  - http://www.voidspace.org.uk/python/mock/"
   ]
  }
 ],
 "metadata": {
  "kernelspec": {
   "display_name": "Python 2",
   "language": "python",
   "name": "python2"
  },
  "language_info": {
   "codemirror_mode": {
    "name": "ipython",
    "version": 2
   },
   "file_extension": ".py",
   "mimetype": "text/x-python",
   "name": "python",
   "nbconvert_exporter": "python",
   "pygments_lexer": "ipython2",
   "version": "2.7.12"
  }
 },
 "nbformat": 4,
 "nbformat_minor": 1
}
