{
 "cells": [
  {
   "cell_type": "markdown",
   "metadata": {},
   "source": [
    "# MySQL-python\n",
    "It is an interface to MySQL that:\n",
    "   - Compliance with Python db API 2.0 ( http://www.python.org/dev/peps/pep-0249/ )\n",
    "   - Thread safety\n",
    "   - Thread-friendliness (threads will not block each other)\n",
    "\n",
    "MySQL-3.23 through 5.5 and Python-2.4 through 2.7 are currently supported."
   ]
  },
  {
   "cell_type": "code",
   "execution_count": null,
   "metadata": {
    "collapsed": true
   },
   "outputs": [],
   "source": [
    "# let's create a testing database\n",
    "# CREATE DATABASE IF NOT EXISTS mod_mysqldb DEFAULT CHARACTER SET 'UTF8' DEFAULT COLLATE 'UTF8_GENERAL_CI';\n",
    "# GRANT ALL PRIVILEGES ON mod_mysqldb.* TO 'user'@'localhost' IDENTIFIED BY 'user';"
   ]
  },
  {
   "cell_type": "code",
   "execution_count": null,
   "metadata": {},
   "outputs": [],
   "source": [
    "# let's connect to our database\n",
    "import MySQLdb as mysql\n",
    "\n",
    "conn = mysql.connect('localhost', 'user', 'user', 'mod_mysqldb')\n",
    "cursor = conn.cursor()"
   ]
  },
  {
   "cell_type": "code",
   "execution_count": null,
   "metadata": {},
   "outputs": [],
   "source": [
    "cursor.execute(\"CREATE TABLE IF NOT EXISTS writers(id INT PRIMARY KEY AUTO_INCREMENT, name VARCHAR(25), UNIQUE KEY (name));\")\n",
    "cursor.execute(\"INSERT IGNORE INTO writers(Name) VALUES('Jack London')\")\n",
    "cursor.execute(\"INSERT IGNORE INTO writers(Name) VALUES('Honore de Balzac')\")\n",
    "cursor.execute(\"INSERT IGNORE INTO writers(Name) VALUES('Lion Feuchtwanger')\")\n",
    "cursor.execute(\"INSERT IGNORE INTO writers(Name) VALUES('Emile Zola')\")\n",
    "cursor.execute(\"INSERT IGNORE INTO writers(Name) VALUES('Truman Capote')\")"
   ]
  },
  {
   "cell_type": "code",
   "execution_count": null,
   "metadata": {
    "collapsed": true
   },
   "outputs": [],
   "source": [
    "more_writers = ['Yukio Mishima', 'Lev Tolstoi', 'Franz Kafka']\n",
    "for writer in more_writers:\n",
    "    cursor.execute(\"INSERT IGNORE INTO writers(Name) VALUES(%s)\", (writer,))"
   ]
  },
  {
   "cell_type": "code",
   "execution_count": null,
   "metadata": {},
   "outputs": [],
   "source": [
    "more_writers_using_many = [('Charles Bukowski',), ('Jorge Luis Borges',), ('Gabriel Garcia Marquez',)]\n",
    "cursor.executemany(\"INSERT IGNORE INTO writers(Name) VALUES(%s)\", more_writers_using_many)"
   ]
  },
  {
   "cell_type": "markdown",
   "metadata": {},
   "source": [
    "### WARNING: executemany just makes a loop on execute, so it is not a bulk update"
   ]
  },
  {
   "cell_type": "code",
   "execution_count": null,
   "metadata": {},
   "outputs": [],
   "source": [
    "more_writers_using_dict = [{'name':'Pablo Neruda'}, {'name':'Fedor Dostoievski'}]\n",
    "cursor.executemany(\"INSERT IGNORE INTO writers(Name) VALUES(%(name)s)\", more_writers_using_dict)"
   ]
  },
  {
   "cell_type": "code",
   "execution_count": null,
   "metadata": {},
   "outputs": [],
   "source": [
    "cursor.execute(\"INSERT IGNORE INTO writers(Name) VALUES(%s)\" % 'Francis Scott Fitzgerald')"
   ]
  },
  {
   "cell_type": "code",
   "execution_count": null,
   "metadata": {},
   "outputs": [],
   "source": [
    "# What has happened?\n",
    "\"INSERT IGNORE INTO writers(Name) VALUES(%s)\" % 'Francis Scott Fitzgerald'"
   ]
  },
  {
   "cell_type": "markdown",
   "metadata": {},
   "source": [
    "### It is recommend to interpolate sql using the DB API.\n",
    "### It knows how to deal with strings, integers, booleans, None..."
   ]
  },
  {
   "cell_type": "markdown",
   "metadata": {},
   "source": [
    "###  Querying"
   ]
  },
  {
   "cell_type": "code",
   "execution_count": null,
   "metadata": {},
   "outputs": [],
   "source": [
    "cursor.execute('SELECT * FROM writers')\n",
    "for writer in cursor.fetchall():\n",
    "    print writer"
   ]
  },
  {
   "cell_type": "code",
   "execution_count": null,
   "metadata": {},
   "outputs": [],
   "source": [
    "# query for an specific register\n",
    "cursor.execute(\"SELECT * FROM writers WHERE name='Pablo Neruda'\")\n",
    "print cursor.fetchone()"
   ]
  },
  {
   "cell_type": "code",
   "execution_count": null,
   "metadata": {},
   "outputs": [],
   "source": [
    "# querying using interpolation\n",
    "cursor.execute(\"SELECT * FROM writers WHERE name=%(name)s\", {'name': 'Charles Bukowski'})\n",
    "print cursor.fetchone()"
   ]
  },
  {
   "cell_type": "code",
   "execution_count": null,
   "metadata": {
    "collapsed": true
   },
   "outputs": [],
   "source": [
    "# using a dict cursor to improve working with a queryset\n",
    "import MySQLdb.cursors\n",
    "conn.commit()\n",
    "cursor.close()\n",
    "conn.close()\n",
    "conn = mysql.connect('localhost', 'user', 'user', 'mod_mysqldb', cursorclass=MySQLdb.cursors.DictCursor)\n",
    "cursor = conn.cursor()"
   ]
  },
  {
   "cell_type": "code",
   "execution_count": null,
   "metadata": {},
   "outputs": [],
   "source": [
    "cursor.execute('SELECT * FROM writers')\n",
    "for writer in cursor.fetchall():\n",
    "    print writer"
   ]
  },
  {
   "cell_type": "markdown",
   "metadata": {},
   "source": [
    "# pymongo\n",
    "### 'pymongo' is the official Python MongoDB driver"
   ]
  },
  {
   "cell_type": "code",
   "execution_count": null,
   "metadata": {},
   "outputs": [],
   "source": [
    "import pymongo\n",
    "client = pymongo.MongoClient('localhost', 27017)  # localhost:27017 is the default value\n",
    "dbconn = client.mod_pymongo  # also client['mod_pymongo'] getting a database is so easy ('use db' in mongo shell)\n",
    "print client"
   ]
  },
  {
   "cell_type": "markdown",
   "metadata": {},
   "source": [
    "- When connecting you can provide a list of seeds (replica set servers) in several ways\n",
    "- http://api.mongodb.org/python/current/examples/high_availability.html"
   ]
  },
  {
   "cell_type": "code",
   "execution_count": null,
   "metadata": {},
   "outputs": [],
   "source": [
    "from pymongo import ReadPreference\n",
    "from pymongo.errors import AutoReconnect, ConnectionFailure, DuplicateKeyError\n",
    "replica_client = pymongo.MongoClient(\n",
    "                ('localhost:27017', 'localhost:27018', 'localhost:27019'), # also you can use url format\n",
    "                w=3, # globally set write_concern (wtimeout can also be set...).\n",
    "                replicaset='sdrepl',\n",
    "                read_preference=ReadPreference.PRIMARY, # several options available\n",
    "                auto_start_request=True  # consistent reads (socket allocated by requests)\n",
    "                ) # you can also use MongoReplicaSetClient\n",
    "# More options in http://api.mongodb.org/python/current/api/pymongo/connection.html\n",
    "print replica_client\n",
    "client.close()"
   ]
  },
  {
   "cell_type": "code",
   "execution_count": null,
   "metadata": {
    "collapsed": true
   },
   "outputs": [],
   "source": [
    "db_replica = replica_client.mod_pymongo\n",
    "db_replica.books.drop()"
   ]
  },
  {
   "cell_type": "code",
   "execution_count": null,
   "metadata": {},
   "outputs": [],
   "source": [
    "db_replica.writers.ensure_index([(\"name\", pymongo.ASCENDING), (\"age\", pymongo.DESCENDING)], unique=True, name=\"unique_name\")"
   ]
  },
  {
   "cell_type": "code",
   "execution_count": null,
   "metadata": {
    "collapsed": true
   },
   "outputs": [],
   "source": [
    "\n",
    "more_writers = [\"Yukio Mishima\", \"Lev Tolstoi\", \"Franz Kafka\", \"J. D. Salinger\"]\n",
    "for writer in more_writers:\n",
    "    db_replica.writers.insert({\"name\": writer, \"age\": 90})"
   ]
  },
  {
   "cell_type": "code",
   "execution_count": null,
   "metadata": {},
   "outputs": [],
   "source": [
    "# some  more\n",
    "db_replica.books.insert({'_id': 'hobbit', 'editions': []}) # rules is pretended to be a list of complex objects\n",
    "db_replica.books.insert({'_id': 'lord_rings', 'editions': None }, w=0)  # write_concern can be disabled in collection level operations"
   ]
  },
  {
   "cell_type": "code",
   "execution_count": null,
   "metadata": {},
   "outputs": [],
   "source": [
    "more_writers_using_bulk = [\"Charles Bukowski\", \"Jorge Luis Borges\", \"Gabriel Garcia Marquez\"]\n",
    "db_replica.writers.insert([{\"name\": name} for name in more_writers_using_bulk])"
   ]
  },
  {
   "cell_type": "code",
   "execution_count": null,
   "metadata": {},
   "outputs": [],
   "source": [
    "from pymongo.errors import DuplicateKeyError, OperationFailure\n",
    "\n",
    "# collection level operations raise OperationFailure when a problem happens\n",
    "# OperationFailure is translated in some cases:\n",
    "\n",
    "try:\n",
    "    db_replica.books.insert({'_id': 'hobbit'})\n",
    "except DuplicateKeyError:\n",
    "    print \"Already created object\"\n",
    "except OperationFailure:\n",
    "    print \"Some problem occurred\" \n"
   ]
  },
  {
   "cell_type": "markdown",
   "metadata": {},
   "source": [
    "- Most of shell operations can be translated easilly:\n",
    "- dict and list in python vs object and array in json\n",
    "- some times dict must be changed to list of set because dict has no ordering... (ensure_index)\n",
    "\n",
    "###  Querying"
   ]
  },
  {
   "cell_type": "code",
   "execution_count": null,
   "metadata": {},
   "outputs": [],
   "source": [
    "cursor = db_replica.writers.find()\n",
    "for writer in cursor: # we get a pymongo Cursor not a list (ordering, skip...)\n",
    "    print writer"
   ]
  },
  {
   "cell_type": "code",
   "execution_count": null,
   "metadata": {},
   "outputs": [],
   "source": [
    "# query for an specific register\n",
    "res = db_replica.writers.find_one({\"name\": \"Pablo Neruda\"})\n",
    "print res # we get a dict in python"
   ]
  },
  {
   "cell_type": "code",
   "execution_count": null,
   "metadata": {},
   "outputs": [],
   "source": [
    "# querying with several fields, just provide a dict\n",
    "import re\n",
    "db_replica.writers.insert({'name': 'Miguel de Unamuno', 'age': 130})\n",
    "db_replica.writers.insert({'name': 'Miguel Delibes', 'age': 90})\n",
    "db_replica.writers.insert({'name': 'Miguel de Cervantes', 'age': 500})\n",
    "res = db_replica.writers.find({\"name\": re.compile(\"^Miguel\"), \"age\": {'$lt': 200}}) # regex can be used in query\n",
    "print list(res) # we get a dict in python"
   ]
  },
  {
   "cell_type": "code",
   "execution_count": null,
   "metadata": {},
   "outputs": [],
   "source": [
    "# sort, skip and limit are quite similar to shell\n",
    "res = db_replica.writers.find().sort('name', pymongo.DESCENDING).skip(3).limit(1)\n",
    "print list(res)"
   ]
  },
  {
   "cell_type": "code",
   "execution_count": null,
   "metadata": {},
   "outputs": [],
   "source": [
    "# you can use it as kw arguments\n",
    "res = db_replica.writers.find(skip=3).sort('name', pymongo.DESCENDING).limit(1)\n",
    "print list(res)"
   ]
  },
  {
   "cell_type": "code",
   "execution_count": null,
   "metadata": {},
   "outputs": [],
   "source": [
    "# to sort by more than one parameter we use list of set not dict \n",
    "res = db_replica.writers.find().sort([('name', pymongo.DESCENDING), ('_id', pymongo.ASCENDING)]).skip(3).limit(1)\n",
    "print list(res)"
   ]
  },
  {
   "cell_type": "code",
   "execution_count": null,
   "metadata": {},
   "outputs": [],
   "source": [
    "# Explain plans\n",
    "from pprint import pprint\n",
    "pprint(db_replica.writers.find({\"name\": \"Pablo Neruda\"}).explain())"
   ]
  },
  {
   "cell_type": "markdown",
   "metadata": {},
   "source": [
    "###  Updating"
   ]
  },
  {
   "cell_type": "code",
   "execution_count": null,
   "metadata": {},
   "outputs": [],
   "source": [
    "# Change the name of a field in a document\n",
    "db_replica.writers.update({\"name\": \"J. D. Salinger\"}, {\"name\": \"Jerome David Salinger\"})"
   ]
  },
  {
   "cell_type": "code",
   "execution_count": null,
   "metadata": {},
   "outputs": [],
   "source": [
    "# if object does not exist, create new one (upsert)\n",
    "db_replica.writers.update({\"name\": \"George R. R. Martin\"}, {\"name\": \"George Raymond Richard Martin\"}, upsert=True)"
   ]
  },
  {
   "cell_type": "code",
   "execution_count": null,
   "metadata": {},
   "outputs": [],
   "source": [
    "# Add book as subdocument in collection\n",
    "book = {'name': 'hobbit'}\n",
    "db_replica.writers.update({\"name\": \"Jerome David Salinger\"},{'$set': {'books': book}})\n",
    "db_replica.writers.update({\"name\": \"George Raymond Richard Martin\"},{'$set': {'books': {'name': 'another_book'}}})"
   ]
  },
  {
   "cell_type": "code",
   "execution_count": null,
   "metadata": {},
   "outputs": [],
   "source": [
    "# check the documents...\n",
    "print db_replica.writers.find_one({\"name\": \"Jerome David Salinger\"})\n",
    "print db_replica.writers.find_one({\"name\": \"George Raymond Richard Martin\"})"
   ]
  },
  {
   "cell_type": "code",
   "execution_count": null,
   "metadata": {},
   "outputs": [],
   "source": [
    "# Update subdocument field\n",
    "db_replica.writers.update({\"name\": \"George Raymond Richard Martin\"},{'$set': {'books.name': 'lord_rings'}})\n",
    "res = dbconn.writers.find_one({\"name\": \"George Raymond Richard Martin\"})\n",
    "print res"
   ]
  },
  {
   "cell_type": "code",
   "execution_count": null,
   "metadata": {},
   "outputs": [],
   "source": [
    "# add one object to an array with push\n",
    "\n",
    "edition = {\n",
    "            'year': '1997',\n",
    "            'editorial': 'planet'\n",
    "        }\n",
    "db_replica.books.update({'_id': 'hobbit' }, {'$push': {'editions': edition}}) # quite similar to mongo shell"
   ]
  },
  {
   "cell_type": "code",
   "execution_count": null,
   "metadata": {},
   "outputs": [],
   "source": [
    "print db_replica.books.find_one({'_id': 'hobbit'})"
   ]
  },
  {
   "cell_type": "code",
   "execution_count": null,
   "metadata": {},
   "outputs": [],
   "source": [
    "# Dealing with Autoreconnect in replicaset\n",
    "# Stop the mongo primary instance before continue\n",
    "import time\n",
    "try:\n",
    "    db_replica.books.find_one()\n",
    "except AutoReconnect:\n",
    "    print \"Connection lost\""
   ]
  },
  {
   "cell_type": "code",
   "execution_count": null,
   "metadata": {},
   "outputs": [],
   "source": [
    "# We make same query again ...\n",
    "print db_replica.books.find_one()"
   ]
  },
  {
   "cell_type": "markdown",
   "metadata": {},
   "source": [
    "## SOURCES:\n",
    " - http://api.mongodb.org/python/current/\n",
    " - http://api.mongodb.org/python/current/examples/gevent.html\n",
    " - http://api.mongodb.org/python/current/api/pymongo/collection.html\n",
    " - http://api.mongodb.org/python/current/api/pymongo/connection.html"
   ]
  },
  {
   "cell_type": "code",
   "execution_count": null,
   "metadata": {
    "collapsed": true
   },
   "outputs": [],
   "source": []
  }
 ],
 "metadata": {
  "kernelspec": {
   "display_name": "Python 2",
   "language": "python",
   "name": "python2"
  },
  "language_info": {
   "codemirror_mode": {
    "name": "ipython",
    "version": 2
   },
   "file_extension": ".py",
   "mimetype": "text/x-python",
   "name": "python",
   "nbconvert_exporter": "python",
   "pygments_lexer": "ipython2",
   "version": "2.7.12"
  }
 },
 "nbformat": 4,
 "nbformat_minor": 1
}
