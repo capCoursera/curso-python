{
 "cells": [
  {
   "cell_type": "markdown",
   "metadata": {},
   "source": [
    "# Creating and processing logs\n",
    "\n",
    "## Goals\n",
    "  \n",
    "  - importance of logging\n",
    "  - configuring logger module\n",
    "  - open log files\n",
    "  \n",
    "## modules"
   ]
  },
  {
   "cell_type": "code",
   "execution_count": null,
   "metadata": {
    "collapsed": false
   },
   "outputs": [],
   "source": [
    "from __future__ import print_function\n",
    "\n",
    "import logging\n",
    "import logging.config\n",
    "import logging.handlers\n",
    "import mimetypes\n",
    "import gzip, bz2\n",
    "import yaml\n",
    "\n"
   ]
  },
  {
   "cell_type": "markdown",
   "metadata": {},
   "source": [
    "## Importance of Logging\n",
    "\n",
    "All automation and scripting activity should be carefully logged.\n",
    "\n",
    "The ```logging``` module:\n",
    "\n",
    "  - can stream logs to files and network\n",
    "  - is configurable via yml, dict, ini (deprecated)\n",
    "  - optimizes output via log levels\n",
    "  - takes care of rotation\n",
    "  \n",
    "Hint: manage logs with syslog.\n",
    "  "
   ]
  },
  {
   "cell_type": "code",
   "execution_count": null,
   "metadata": {
    "collapsed": false
   },
   "outputs": [],
   "source": [
    "# Logs to stdout|err with a default loglevel.\n",
    "# Logs are not printed on jupyter cells but you can  \n",
    "#  check them in another terminal\n",
    "logging.basicConfig(level=logging.DEBUG)\n",
    "\n",
    "# Create a logger.\n",
    "log = logging.getLogger()\n",
    "\n",
    "# Logs supports a print-like syntax, and doesn't \n",
    "#  build unneeded message strings!\n",
    "# still using old string interpolation in this casse is useful\n",
    "log.info(\"Use %r instead of %s to avoid\", [u\"Serialization\"], \"issues\")\n",
    "\n"
   ]
  },
  {
   "cell_type": "code",
   "execution_count": null,
   "metadata": {
    "collapsed": false
   },
   "outputs": [],
   "source": [
    "\n",
    "%cat logger.yml\n"
   ]
  },
  {
   "cell_type": "code",
   "execution_count": null,
   "metadata": {
    "collapsed": false
   },
   "outputs": [],
   "source": [
    "with open('logger.yml') as logger_config:\n",
    "    logging.config.dictConfig(yaml.safe_load(logger_config))\n",
    "    \n",
    "# The ```os``` module goes to syslog\n",
    "log.info(\"To syslog?\")\n",
    "log.error(\"To syslog\")\n",
    "log.debug(\"test debug\")\n"
   ]
  },
  {
   "cell_type": "code",
   "execution_count": null,
   "metadata": {
    "collapsed": true
   },
   "outputs": [],
   "source": [
    "# To process compressed files, use an helper function. \n",
    "import mimetools\n",
    "import gzip\n",
    "import bz2\n",
    "\n",
    "def log_open(path):\n",
    "    \"\"\"Open log files using its mimetype to choose the correct method\"\"\"\n",
    "    l_type, l_encoding = mimetypes.guess_type(path)\n",
    "    if l_encoding == 'gzip':\n",
    "        return gzip.open(path, 'rb')\n",
    "    elif l_encoding == 'bzip2':\n",
    "        return bz2.BZ2File(path, 'rb')\n",
    "    else:\n",
    "        return open(path, 'rb')\n"
   ]
  },
  {
   "cell_type": "code",
   "execution_count": null,
   "metadata": {
    "collapsed": false
   },
   "outputs": [],
   "source": [
    "# Exercise:\n",
    "#  log some messages modifying the default format string.\n",
    "# use log_open to open gzip files or plain texts"
   ]
  },
  {
   "cell_type": "code",
   "execution_count": null,
   "metadata": {
    "collapsed": true
   },
   "outputs": [],
   "source": []
  }
 ],
 "metadata": {
  "kernelspec": {
   "display_name": "Python 2",
   "language": "python",
   "name": "python2"
  },
  "language_info": {
   "codemirror_mode": {
    "name": "ipython",
    "version": 2
   },
   "file_extension": ".py",
   "mimetype": "text/x-python",
   "name": "python",
   "nbconvert_exporter": "python",
   "pygments_lexer": "ipython2",
   "version": "2.7.5"
  }
 },
 "nbformat": 4,
 "nbformat_minor": 0
}
