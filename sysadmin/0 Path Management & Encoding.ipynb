{
 "cells": [
  {
   "cell_type": "markdown",
   "metadata": {},
   "source": [
    "# Path Management\n",
    "\n",
    "\n",
    "## Goal\n",
    " \n",
    " - Normalize paths on different platform\n",
    " - Create, copy and remove folders\n",
    " - Handle errors\n",
    "    \n",
    "## Modules\n",
    " "
   ]
  },
  {
   "cell_type": "code",
   "execution_count": null,
   "metadata": {
    "collapsed": false
   },
   "outputs": [],
   "source": [
    "import os\n",
    "import os.path\n",
    "import shutil\n",
    "import errno\n",
    "import glob\n",
    "import sys"
   ]
  },
  {
   "cell_type": "markdown",
   "metadata": {},
   "source": [
    "## See also:\n",
    "\n",
    " - pathlib on Python 3.4+"
   ]
  },
  {
   "cell_type": "code",
   "execution_count": null,
   "metadata": {
    "collapsed": true
   },
   "outputs": [],
   "source": [
    "# Be python3 ready\n",
    "from __future__ import unicode_literals, print_function"
   ]
  },
  {
   "cell_type": "markdown",
   "metadata": {},
   "source": [
    "## Multiplatform Path Management\n",
    "\n",
    "- The os.path module seems verbose but it's the *best* way to manage paths. It's:\n",
    "  - safe\n",
    "  - multiplatform\n",
    "\n",
    "        \n",
    "- Here we check the operating system and prepend the right path\n"
   ]
  },
  {
   "cell_type": "code",
   "execution_count": null,
   "metadata": {
    "collapsed": true
   },
   "outputs": [],
   "source": [
    "import os\n",
    "import sys\n",
    "basedir, hosts  = \"/\", \"etc/hosts\""
   ]
  },
  {
   "cell_type": "code",
   "execution_count": null,
   "metadata": {
    "collapsed": false
   },
   "outputs": [],
   "source": [
    "# sys.platform shows the current operating system\n",
    "if sys.platform.startswith('win'):\n",
    "    basedir = 'c:/windows/system32/drivers'\n",
    "print(basedir)"
   ]
  },
  {
   "cell_type": "code",
   "execution_count": null,
   "metadata": {
    "collapsed": false
   },
   "outputs": [],
   "source": [
    "# Join removes redundant \"/\"\n",
    "hosts = os.path.join(basedir, hosts)\n",
    "print(hosts)"
   ]
  },
  {
   "cell_type": "code",
   "execution_count": null,
   "metadata": {
    "collapsed": false
   },
   "outputs": [],
   "source": [
    "# normpath fixes \"/\" orientation \n",
    "# and redundant \"..\"\n",
    "hosts = os.path.normpath(hosts)\n",
    "print(\"Normalized path is\", hosts)"
   ]
  },
  {
   "cell_type": "code",
   "execution_count": null,
   "metadata": {
    "collapsed": false
   },
   "outputs": [],
   "source": [
    "# realpath resolves symlinks (on unix)\n",
    "! mkdir -p /tmp/course\n",
    "! ln -sf /etc/hosts /tmp/course/hosts\n",
    "realfile = os.path.realpath(\"/tmp/course/hosts\") \n",
    "print(realfile)"
   ]
  },
  {
   "cell_type": "code",
   "execution_count": null,
   "metadata": {
    "collapsed": false
   },
   "outputs": [],
   "source": [
    "# Exercise: given the following path\n",
    "base, path = \"/usr\", \"bin/foo\"\n",
    "# Which is the expected output of result?\n",
    "result = os.path.join(base, path)\n",
    "print(result)"
   ]
  },
  {
   "cell_type": "markdown",
   "metadata": {},
   "source": [
    "## Manage trees\n",
    "\n",
    "Python modules can:\n",
    "    - manage directory trees\n",
    "    - and basic errors\n",
    "\n"
   ]
  },
  {
   "cell_type": "code",
   "execution_count": null,
   "metadata": {
    "collapsed": false
   },
   "outputs": [],
   "source": [
    "# os and shutil supports basic file operations\n",
    "# like recursive copy and tree creation.\n",
    "!rm -rf /tmp/course/foo\n",
    "from os import makedirs\n",
    "makedirs(\"/tmp/course/foo/bar\")"
   ]
  },
  {
   "cell_type": "code",
   "execution_count": null,
   "metadata": {
    "collapsed": true
   },
   "outputs": [],
   "source": [
    "# while os.path can be used to test file existence\n",
    "from os.path import isdir\n",
    "assert isdir(\"/tmp/course/foo/bar\")"
   ]
  },
  {
   "cell_type": "code",
   "execution_count": null,
   "metadata": {
    "collapsed": false
   },
   "outputs": [],
   "source": [
    "# Check the directory content with either one of\n",
    "!tree /tmp/course || find /tmp/course"
   ]
  },
  {
   "cell_type": "code",
   "execution_count": null,
   "metadata": {
    "collapsed": false
   },
   "outputs": [],
   "source": [
    "# We can use exception handlers to check\n",
    "#  what happened.\n",
    "\n",
    "try:\n",
    "    # python2 does not allow to ignore\n",
    "    #  already existing directories\n",
    "    #  and raises an OSError\n",
    "    makedirs(\"/tmp/course/foo/bar\")\n",
    "except OSError as e:\n",
    "    # Just use the errno module to\n",
    "    #  check the error value\n",
    "    print(e)\n",
    "    import errno\n",
    "    assert e.errno == errno.EEXIST"
   ]
  },
  {
   "cell_type": "code",
   "execution_count": null,
   "metadata": {
    "collapsed": true
   },
   "outputs": [],
   "source": [
    "from shutil import copytree, rmtree\n",
    "# Now copy recursively two directories\n",
    "# and check the result\n",
    "copytree(\"/tmp/course/foo\", \"/tmp/course/foo2\")\n",
    "assert isdir(\"/tmp/course/foo2/bar\")"
   ]
  },
  {
   "cell_type": "code",
   "execution_count": null,
   "metadata": {
    "collapsed": false
   },
   "outputs": [],
   "source": [
    "#This command should work on both unix and windows \n",
    "!ls /tmp/course/foo2/"
   ]
  },
  {
   "cell_type": "code",
   "execution_count": null,
   "metadata": {
    "collapsed": true
   },
   "outputs": [],
   "source": [
    "# Now remove it and check the outcome\n",
    "rmtree(\"/tmp/course/foo\")\n",
    "assert not isdir(\"/tmp/course/foo/bar\")"
   ]
  },
  {
   "cell_type": "code",
   "execution_count": null,
   "metadata": {
    "collapsed": false
   },
   "outputs": [],
   "source": [
    "#This command should work on both unix and windows \n",
    "!ls /tmp/course/"
   ]
  },
  {
   "cell_type": "code",
   "execution_count": null,
   "metadata": {
    "collapsed": true
   },
   "outputs": [],
   "source": [
    "# Cleanup created files\n",
    "rmtree(\"/tmp/course\")"
   ]
  },
  {
   "cell_type": "markdown",
   "metadata": {},
   "source": [
    "# Encoding\n",
    "\n",
    "## Goals\n",
    "\n",
    " - A string is more than a sequence of bytes\n",
    " - A string is a couple (bytes, encoding)\n",
    " - Use unicode_literals  in python2\n",
    " - Manage differently encoded filenames\n",
    " - A string is not a sequence of bytes"
   ]
  },
  {
   "cell_type": "code",
   "execution_count": null,
   "metadata": {
    "collapsed": true
   },
   "outputs": [],
   "source": [
    "import os\n",
    "import os.path\n",
    "import glob"
   ]
  },
  {
   "cell_type": "code",
   "execution_count": null,
   "metadata": {
    "collapsed": true
   },
   "outputs": [],
   "source": [
    "from os.path import isdir\n",
    "basedir = \"/tmp/course\"\n",
    "if not isdir(basedir):\n",
    "    os.makedirs(basedir) "
   ]
  },
  {
   "cell_type": "code",
   "execution_count": null,
   "metadata": {
    "collapsed": false
   },
   "outputs": [],
   "source": [
    "# Py3 doesn't need the 'u' prefix before the string.\n",
    "the_string = u\"S\\u00fcd\" # Sued\n",
    "print(the_string)\n",
    "print type(the_string)"
   ]
  },
  {
   "cell_type": "code",
   "execution_count": null,
   "metadata": {
    "collapsed": false
   },
   "outputs": [],
   "source": [
    "# the_string Sued can be encoded in different...\n",
    "in_utf8 = the_string.encode('utf-8')\n",
    "in_win = the_string.encode('cp1252')\n",
    "\n",
    "# ...byte-sequences\n",
    "assert type(in_utf8) == bytes\n",
    "print type(in_utf8)"
   ]
  },
  {
   "cell_type": "code",
   "execution_count": null,
   "metadata": {
    "collapsed": false
   },
   "outputs": [],
   "source": [
    "# Now you can see the differences between \n",
    "print(repr(in_utf8))\n",
    "# and\n",
    "print(repr(in_win))"
   ]
  },
  {
   "cell_type": "code",
   "execution_count": null,
   "metadata": {
    "collapsed": false
   },
   "outputs": [],
   "source": [
    "# Decoding bytes using the wrong map...\n",
    "# ...gives Sad results\n",
    "print(in_utf8.decode('cp1252'))\n",
    "print (in_utf8.decode('utf-8'))"
   ]
  },
  {
   "cell_type": "markdown",
   "metadata": {},
   "source": [
    "# To make Py2 encoding-aware we must\n",
    "from __future__ import unicode_literals, print_function"
   ]
  }
 ],
 "metadata": {
  "kernelspec": {
   "display_name": "Python 2",
   "language": "python",
   "name": "python2"
  },
  "language_info": {
   "codemirror_mode": {
    "name": "ipython",
    "version": 2
   },
   "file_extension": ".py",
   "mimetype": "text/x-python",
   "name": "python",
   "nbconvert_exporter": "python",
   "pygments_lexer": "ipython2",
   "version": "2.7.12"
  }
 },
 "nbformat": 4,
 "nbformat_minor": 0
}
