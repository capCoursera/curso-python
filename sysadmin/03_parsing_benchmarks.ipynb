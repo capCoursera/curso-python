{
 "cells": [
  {
   "cell_type": "markdown",
   "metadata": {},
   "source": [
    "# Parsing\n",
    "\n",
    "Goals:\n",
    "\n",
    "    - Plan a parsing strategy\n",
    "    - Use basic regular expressions: match, search, sub\n",
    "    - Benchmarking a parser\n",
    "    - Running nosetests\n",
    "    - Write a simple parser\n",
    "    \n",
    "# Modules:\n",
    "\n",
    "\n"
   ]
  },
  {
   "cell_type": "code",
   "execution_count": null,
   "metadata": {
    "collapsed": true
   },
   "outputs": [],
   "source": [
    "import re\n",
    "import nose\n",
    "# %timeit"
   ]
  },
  {
   "cell_type": "markdown",
   "metadata": {},
   "source": [
    "# Parsing is hard...\n",
    "\n",
    "<h2>\n",
    "<i>\"System Administrators spent $24.3\\%$ of\n",
    " their work-life parsing files.\"</i>\n",
    " <br><br>\n",
    " \n",
    " Independent analysis by The GASP* Society ;) <br>\n",
    " </h2>\n",
    "<h3>\n",
    " *(Grep Awk Sed Perl)\n",
    " </h3>"
   ]
  },
  {
   "cell_type": "markdown",
   "metadata": {},
   "source": [
    "#  strategy!\n",
    "\n",
    "<table>\n",
    "<tr><td>\n",
    "<ol><li>Collect parsing samples\n",
    "<li>Play in ipython and collect %history\n",
    "<li>Write tests, then the parser\n",
    "<li>Eventually benchmark\n",
    "</ol>\n",
    "</td><td>\n",
    "<img src=\"parsing-lifecycle.png\" />\n",
    "</td></tr>\n",
    "</table>\n"
   ]
  },
  {
   "cell_type": "markdown",
   "metadata": {},
   "source": [
    "# Parsing postfix logs"
   ]
  },
  {
   "cell_type": "code",
   "execution_count": null,
   "metadata": {
    "collapsed": false
   },
   "outputs": [],
   "source": [
    "from __future__ import print_function\n",
    "# Before writing the parser, collect samples of\n",
    "#  the interesting lines. For now just\n",
    "mail_sent = 'May 31 08:00:00 test-fe1 postfix/smtp[16669]: 7CD8E730020: to=<jon@doe.it>, relay=examplemx2.doe.it[222.33.44.555]:25, delay=0.8, delays=0.17/0.01/0.43/0.19, dsn=2.0.0, status=sent(250 ok:  Message 2108406157 accepted)'\n",
    "mail_delivered = 'May 31 08:00:00 test-fe1 postfix/smtp[16669]: 7CD8E730020: removed'\n",
    "\n",
    "print(\"I'm goint to parse the following line\", mail_sent, sep=\"\\n\\n\")"
   ]
  },
  {
   "cell_type": "code",
   "execution_count": null,
   "metadata": {
    "collapsed": true
   },
   "outputs": [],
   "source": [
    "def test_sent():\n",
    "    hour, host, to = parse_line(mail_sent)\n",
    "    assert hour == '08:00:00'\n",
    "    assert to == 'jon@doe.it'"
   ]
  },
  {
   "cell_type": "code",
   "execution_count": null,
   "metadata": {
    "collapsed": false
   },
   "outputs": [],
   "source": [
    "# Play with mail_sent\n",
    "mail_sent.split()"
   ]
  },
  {
   "cell_type": "code",
   "execution_count": null,
   "metadata": {
    "collapsed": false
   },
   "outputs": [],
   "source": [
    "# You can number fields with enumerate. \n",
    "# Remember that ipython puts the last returned value in `_`\n",
    "# in our case: _ = mail_sent.split()\n",
    "# which is useful in interactive mode!\n",
    "fields, counting = _, enumerate(_)\n",
    "print(*counting, sep=\"\\n\")\n",
    "#counting = enumerate(mail_sent.split())\n",
    "#for it in counting:\n",
    "#    print(it)"
   ]
  },
  {
   "cell_type": "code",
   "execution_count": null,
   "metadata": {
    "collapsed": false
   },
   "outputs": [],
   "source": [
    "# Now we can pick fields singularly...\n",
    "hour, host, dest = fields[2], fields[3], fields[6]\n",
    "print(\"Hour: {}, host: {}, dest: {}\".format(hour, host, dest))"
   ]
  },
  {
   "cell_type": "markdown",
   "metadata": {},
   "source": [
    "## Exercise I\n",
    "    - complete the parse_line(line) function\n",
    "    - run the tests until all pass\n",
    "\n"
   ]
  },
  {
   "cell_type": "code",
   "execution_count": null,
   "metadata": {
    "collapsed": false
   },
   "outputs": [],
   "source": [
    "test_str_1 = 'Nov 31 08:00:00 test-fe1 postfix/smtp[16669]: 7CD8E730020: to=<jon@doe.it>, relay=examplemx2.doe.it[222.33.44.555]:25, delay=0.8, delays=0.17/0.01/0.43/0.19, dsn=2.0.0, status=sent(250 ok:  Message 2108406157 accepted)'\n",
    "test_str_2 = 'Nov 31 08:00:00 test-fe1 postfix/smtp[16669]: 7CD8E730020: removed'\n",
    "\n",
    "\n",
    "def test_sent():\n",
    "    hour, host, destination = parse_line(test_str_1)\n",
    "    assert hour == '08:00:00'\n",
    "    assert host == 'test-fe1'\n",
    "    assert destination == 'to=<jon@doe.it>,'\n",
    "\n",
    "\n",
    "def test_delivered():\n",
    "    hour, host, destination = parse_line(test_str_2)\n",
    "    print(destination)\n",
    "    assert hour == '08:00:00'\n",
    "    assert host == 'test-fe1'\n",
    "    assert destination is None\n",
    "\n",
    "\n",
    "def parse_line(line):\n",
    "    \"\"\" Complete the parse line function.\n",
    "    \"\"\"\n",
    "    # Hint: \"you can\".split()\n",
    "    # Hint: \"<you can slice>\"[1:-1] or use re.split\n",
    "    pass\n",
    "test_sent()\n",
    "test_delivered()"
   ]
  },
  {
   "cell_type": "markdown",
   "metadata": {},
   "source": [
    "# Python Regexp\n"
   ]
  },
  {
   "cell_type": "code",
   "execution_count": null,
   "metadata": {
    "collapsed": true
   },
   "outputs": [],
   "source": [
    "# Python supports regular expressions via\n",
    "import re\n",
    "\n",
    "# We start showing a grep-reloaded function\n",
    "def grep(expr, fpath):\n",
    "    one = re.compile(expr) # ...has two lookup methods...\n",
    "    assert ( one.match     # which searches from ^ the beginning\n",
    "         and one.search )  # that searches $\\pyver{anywhere}$\n",
    "\n",
    "    with open(fpath) as fp:\n",
    "        return [x for x in fp if one.search(x)]"
   ]
  },
  {
   "cell_type": "code",
   "execution_count": null,
   "metadata": {
    "collapsed": false
   },
   "outputs": [],
   "source": [
    "# The function seems to work as expected ;)\n",
    "assert not grep(r'^localhost', '/etc/hosts')\n",
    "\n",
    "# And some more tests\n",
    "ret = grep('127.0.0.1', '/etc/hosts')\n",
    "assert ret, \"ret should not be empty\"\n",
    "print(*ret)"
   ]
  },
  {
   "cell_type": "markdown",
   "metadata": {},
   "source": [
    "### Achieve more complex splitting using regular expressions. "
   ]
  },
  {
   "cell_type": "code",
   "execution_count": null,
   "metadata": {
    "collapsed": false
   },
   "outputs": [],
   "source": [
    "# Splitting with re.findall\n",
    "\n",
    "from re import findall  # can be misused too;\n",
    "\n",
    "# eg for adding the \":\" to a\n",
    "mac = \"00\"\"24\"\"e8\"\"b4\"\"33\"\"20\"\n",
    "\n",
    "# ...using this\n",
    "re_hex = \"[0-9a-fA-F]{2}\"\n",
    "mac_address = ':'.join(findall(re_hex, mac))\n",
    "print(\"The mac address is \", mac_address)\n",
    "\n",
    "# Actually this does a bit of validation, requiring all chars to be in the 0-F range"
   ]
  },
  {
   "cell_type": "markdown",
   "metadata": {},
   "source": [
    "# Benchmarking in iPython - I\n",
    "\n",
    "  - Parsing big files needs benchmarks. timeit module is a good starting point\n",
    "  \n",
    "We are going to measure the execution time of various tasks, using different strategies like regexp, join and split. "
   ]
  },
  {
   "cell_type": "code",
   "execution_count": null,
   "metadata": {
    "collapsed": false
   },
   "outputs": [],
   "source": [
    "# Run the following cell many times. \n",
    "# Do you always get the same results?\n",
    "import timeit\n",
    "test_all_regexps = (\"..\", \"[a-fA-F0-9]{2}\")\n",
    "for re_s in test_all_regexps:\n",
    "    print(timeit.timeit(stmt=\"':'.join(findall(re_s, mac))\",\n",
    "                        setup=\"from re import findall;re_s='{}';mac='{}'\".format(re_s, mac))) "
   ]
  },
  {
   "cell_type": "code",
   "execution_count": null,
   "metadata": {
    "collapsed": false
   },
   "outputs": [],
   "source": [
    "# We can even compare compiled vs inline regexp\n",
    "import re\n",
    "from time import sleep\n",
    "for re_s in test_all_regexps:\n",
    "    print(timeit.timeit(stmt=\"':'.join(re_c.findall(mac))\",\n",
    "                        setup=\"from re import findall, compile;re_c=compile('{}');mac='{}'\".format(re_s, mac)))"
   ]
  },
  {
   "cell_type": "code",
   "execution_count": null,
   "metadata": {
    "collapsed": false
   },
   "outputs": [],
   "source": [
    "# ...or simple\n",
    "print(timeit.timeit(stmt=\"':'.join([mac[i:i+2] for i in range(0,12,2)])\",\n",
    "                        setup=\"from re import findall;mac='{}'\".format(mac))) "
   ]
  },
  {
   "cell_type": "markdown",
   "metadata": {},
   "source": [
    "# Parsing: Exercise II\n",
    "\n",
    "Now another test for the delivered messages\n",
    "    - Improve the parse_line function to make the tests pass\n"
   ]
  },
  {
   "cell_type": "code",
   "execution_count": null,
   "metadata": {
    "collapsed": false
   },
   "outputs": [],
   "source": [
    "#\n",
    "# Use this cell for Exercise II\n",
    "#\n",
    "\n",
    "test_str_1 = 'Nov 31 08:00:00 test-fe1 postfix/smtp[16669]: 7CD8E730020: to=<jon@doe.it>, relay=examplemx2.doe.it[222.33.44.555]:25, delay=0.8, delays=0.17/0.01/0.43/0.19, dsn=2.0.0, status=sent(250 ok:  Message 2108406157 accepted)'\n",
    "test_str_2 = 'Nov 31 08:00:00 test-fe1 postfix/smtp[16669]: 7CD8E730020: removed'\n",
    "\n",
    "\n",
    "def test_sent():\n",
    "    hour, host, destination = parse_line(test_str_1)\n",
    "    assert hour == '08:00:00'\n",
    "    assert host == 'test-fe1'\n",
    "    assert destination == 'jon@doe.it'\n",
    "\n",
    "\n",
    "def test_delivered():\n",
    "    hour, host, destination = parse_line(test_str_2)\n",
    "    assert hour == '08:00:00'\n",
    "    assert host == 'test-fe1'\n",
    "    assert destination is None\n",
    "\n",
    "\n",
    "def parse_line(line):\n",
    "    \"\"\" Complete the parse line function.\n",
    "    \"\"\"\n",
    "    # Hint: \"you can\".split()\n",
    "    # Hint: \"<you can slice>\"[1:-1] or use re.split\n",
    "    pass\n",
    "\n",
    "test_sent()\n",
    "test_delivered()"
   ]
  }
 ],
 "metadata": {
  "kernelspec": {
   "display_name": "Python 2",
   "language": "python",
   "name": "python2"
  },
  "language_info": {
   "codemirror_mode": {
    "name": "ipython",
    "version": 2
   },
   "file_extension": ".py",
   "mimetype": "text/x-python",
   "name": "python",
   "nbconvert_exporter": "python",
   "pygments_lexer": "ipython2",
   "version": "2.7.5"
  }
 },
 "nbformat": 4,
 "nbformat_minor": 0
}
