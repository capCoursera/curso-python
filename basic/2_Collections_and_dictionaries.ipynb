{
 "cells": [
  {
   "cell_type": "markdown",
   "metadata": {},
   "source": [
    "# Collections\n",
    "### Let's start with lists"
   ]
  },
  {
   "cell_type": "code",
   "execution_count": null,
   "metadata": {
    "collapsed": false
   },
   "outputs": [],
   "source": [
    "spam = [\"eggs\", 7.12345]  # This is a list, a comma-separated sequence of values between square brackets\n",
    "print spam"
   ]
  },
  {
   "cell_type": "code",
   "execution_count": null,
   "metadata": {
    "collapsed": false
   },
   "outputs": [],
   "source": [
    "print type(spam)"
   ]
  },
  {
   "cell_type": "code",
   "execution_count": null,
   "metadata": {
    "collapsed": false
   },
   "outputs": [],
   "source": [
    "eggs = [spam,\n",
    "        1.2345,\n",
    "        \"fooo\"]           # No problem with multi-line declaration\n",
    "print eggs"
   ]
  },
  {
   "cell_type": "markdown",
   "metadata": {},
   "source": [
    "- You can mix all kind of types inside a list\n",
    "    - Even other lists, of course"
   ]
  },
  {
   "cell_type": "code",
   "execution_count": null,
   "metadata": {
    "collapsed": false
   },
   "outputs": [],
   "source": [
    "spam = []  # And this is an empty list\n",
    "print spam"
   ]
  },
  {
   "cell_type": "markdown",
   "metadata": {},
   "source": [
    "### What about tuples?"
   ]
  },
  {
   "cell_type": "code",
   "execution_count": null,
   "metadata": {
    "collapsed": false
   },
   "outputs": [],
   "source": [
    "spam = (\"eggs\", 7.12345)  # This is a tuple, a comma-separated sequence of values between parentheses\n",
    "print spam\n",
    "\n",
    "print type(spam)"
   ]
  },
  {
   "cell_type": "code",
   "execution_count": null,
   "metadata": {
    "collapsed": false
   },
   "outputs": [],
   "source": [
    "eggs = (spam,\n",
    "        1.2345,\n",
    "        \"fooo\")           # Again, no problem with multiline declaration\n",
    "print eggs"
   ]
  },
  {
   "cell_type": "code",
   "execution_count": null,
   "metadata": {
    "collapsed": false
   },
   "outputs": [],
   "source": [
    "spam = (\"eggs\", )  # Single item tuple requires the comma\n",
    "print spam"
   ]
  },
  {
   "cell_type": "code",
   "execution_count": null,
   "metadata": {
    "collapsed": false
   },
   "outputs": [],
   "source": [
    "# what will be the output of this\n",
    "spamOne = (\"eggs\")\n",
    "print spamOne"
   ]
  },
  {
   "cell_type": "code",
   "execution_count": null,
   "metadata": {
    "collapsed": false
   },
   "outputs": [],
   "source": [
    "spam = \"eggs\",  # Actually, it is enough with the comma\n",
    "print spam"
   ]
  },
  {
   "cell_type": "code",
   "execution_count": null,
   "metadata": {
    "collapsed": false
   },
   "outputs": [],
   "source": [
    "spam = \"eggs\", 7.12345  # This is called tuple packing\n",
    "print spam"
   ]
  },
  {
   "cell_type": "code",
   "execution_count": null,
   "metadata": {
    "collapsed": false
   },
   "outputs": [],
   "source": [
    "val1, val2 = spam  # And this is the opposite, tuple unpacking\n",
    "print val1\n",
    "print val2"
   ]
  },
  {
   "cell_type": "markdown",
   "metadata": {},
   "source": [
    "### What about both together?"
   ]
  },
  {
   "cell_type": "code",
   "execution_count": null,
   "metadata": {
    "collapsed": false
   },
   "outputs": [],
   "source": [
    "spam = \"spam\"\n",
    "eggs = \"eggs\"\n",
    "eggs, spam = spam, eggs\n",
    "print spam\n",
    "print eggs"
   ]
  },
  {
   "cell_type": "markdown",
   "metadata": {},
   "source": [
    "### Let's go back to lists"
   ]
  },
  {
   "cell_type": "code",
   "execution_count": null,
   "metadata": {
    "collapsed": false
   },
   "outputs": [],
   "source": [
    "spam = [\"eggs\", 7.12345]\n",
    "val1, val2 = spam         # Unpacking also works with lists (but packing always generates tuples)\n",
    "print val1\n",
    "print val2"
   ]
  },
  {
   "cell_type": "code",
   "execution_count": null,
   "metadata": {
    "collapsed": false
   },
   "outputs": [],
   "source": [
    "# And what about strings? Remember they are sequences too...\n",
    "\n",
    "spam = \"spam\"\n",
    "s, p, a, m = spam  # Unpacking even works with strings\n",
    "print s\n",
    "print p\n",
    "print a\n",
    "print m"
   ]
  },
  {
   "cell_type": "markdown",
   "metadata": {},
   "source": [
    "#### str and unicode are also sequences"
   ]
  },
  {
   "cell_type": "markdown",
   "metadata": {},
   "source": [
    "### Python ordered sequence types (arrays in other languages, not linked lists):\n",
    " Python ordered sequence types (arrays in other languages, not linked lists):\n",
    "  - They are arrays, not linked lists, so they have constant O(1) time for index access\n",
    "  - **list**:\n",
    "     - Comma-separated with square brackets\n",
    "     - Mutable\n",
    "     - Kind of dynamic array implementation (reserve space in advanced)\n",
    "         - Resizing is O(n)\n",
    "         - Arbitrary insertion is O(n)\n",
    "         - Appending is amortized O(1)\n",
    "  - **tuple**:\n",
    "     - Comma-separated with parentheses\n",
    "     - Parentheses only required in empty tuple\n",
    "     - Immutable\n",
    "     - Slightly better traversing perfomance than lists\n",
    "  - **str and unicode**:\n",
    "     - One or three single or double quotes\n",
    "     - They have special methods\n",
    "     - Immutable\n",
    "\n",
    "  - Standard library also provides other bult-in collection formats:\n",
    "     - set and frozenset: unordered, without repeated values (content must be hashable)\n",
    "        - High performant in operations like intersection, union, difference, membership check\n",
    "     - bytearray, buffer, xrange: special sequences for concrete use cases\n",
    "     - collections module, with deque, namedtuple, Counter, OrderedDict and defaultdict\n",
    "     \n",
    "### Let's a play a bit with sequences operations"
   ]
  },
  {
   "cell_type": "code",
   "execution_count": null,
   "metadata": {
    "collapsed": true
   },
   "outputs": [],
   "source": [
    "spam = [\"1st\", \"2nd\", \"3rd\", \"4th\", \"5th\"]\n",
    "eggs = (spam, 1.2345, \"fooo\")"
   ]
  },
  {
   "cell_type": "code",
   "execution_count": null,
   "metadata": {
    "collapsed": false
   },
   "outputs": [],
   "source": [
    "print \"eggs\" in spam\n",
    "print \"fooo\" not in eggs\n",
    "print \"am\" in \"spam\"      # Check items membership\n",
    "print \"spam\".find(\"am\")   # NOT recommended for membership"
   ]
  },
  {
   "cell_type": "code",
   "execution_count": null,
   "metadata": {
    "collapsed": false
   },
   "outputs": [],
   "source": [
    "print spam.count(\"1st\")   # Count repetitions (slow)"
   ]
  },
  {
   "cell_type": "code",
   "execution_count": null,
   "metadata": {
    "collapsed": false
   },
   "outputs": [],
   "source": [
    "print spam + spam\n",
    "print eggs + eggs\n",
    "print \"spam\" + \"eggs\"  # Concatenation (shallow copy), must be of the same type"
   ]
  },
  {
   "cell_type": "code",
   "execution_count": null,
   "metadata": {
    "collapsed": false
   },
   "outputs": [],
   "source": [
    "print spam * 5\n",
    "print eggs * 3\n",
    "print \"spam\" * 3  # Also \"multiply\" creating shallow copies concatenated"
   ]
  },
  {
   "cell_type": "code",
   "execution_count": null,
   "metadata": {
    "collapsed": false
   },
   "outputs": [],
   "source": [
    "print len(spam)\n",
    "print len(eggs)\n",
    "print len(\"spam\")  # Obtain its length"
   ]
  },
  {
   "cell_type": "code",
   "execution_count": null,
   "metadata": {
    "collapsed": false
   },
   "outputs": [],
   "source": [
    "# Let's obtain min and max values (slow)\n",
    "print min([5, 6, 2])\n",
    "print max(\"xyzw abcd XYZW ABCD\")"
   ]
  },
  {
   "cell_type": "code",
   "execution_count": null,
   "metadata": {
    "collapsed": true
   },
   "outputs": [],
   "source": [
    "# Let's see how indexing works\n",
    "spam = [\"1st\", \"2nd\", \"3rd\", \"4th\", \"5th\"]\n",
    "eggs = (spam, 1.2345, \"fooo\")"
   ]
  },
  {
   "cell_type": "code",
   "execution_count": null,
   "metadata": {
    "collapsed": false
   },
   "outputs": [],
   "source": [
    "print spam[0]\n",
    "print eggs[1]\n",
    "print \"spam\"[2]  # Access by index, starting from 0 to length - 1, may raise an exception"
   ]
  },
  {
   "cell_type": "code",
   "execution_count": null,
   "metadata": {
    "collapsed": false
   },
   "outputs": [],
   "source": [
    "print spam[-1]\n",
    "print eggs[-2]\n",
    "print \"spam\"[-3]  # Access by index, even negative"
   ]
  },
  {
   "cell_type": "code",
   "execution_count": null,
   "metadata": {
    "collapsed": false
   },
   "outputs": [],
   "source": [
    "print eggs[0]\n",
    "print eggs[0][0]\n",
    "print eggs[0][0][-1]  # Concatenate index accesses"
   ]
  },
  {
   "cell_type": "code",
   "execution_count": null,
   "metadata": {
    "collapsed": false
   },
   "outputs": [],
   "source": [
    "# Let's see how slicing works\n",
    "spam = (\"1st\", \"2nd\", \"3rd\", \"4th\", \"5th\")\n",
    "print spam[1:3]                             # Use colon and a second index for slicing\n",
    "print type(spam[1:4])                       # It generates a brand new object (shallow copy)"
   ]
  },
  {
   "cell_type": "code",
   "execution_count": null,
   "metadata": {
    "collapsed": false
   },
   "outputs": [],
   "source": [
    "spam = [\"1st\", \"2nd\", \"3rd\", \"4th\", \"5th\"]\n",
    "print spam[:3]\n",
    "print spam[1:7]\n",
    "print spam[-2:7]                            # Negative indexes are also valid\n",
    "print spam[3:-2]"
   ]
  },
  {
   "cell_type": "code",
   "execution_count": null,
   "metadata": {
    "collapsed": false
   },
   "outputs": [],
   "source": [
    "print spam[:]                               # Without indexes it performs a shallow copy\n",
    "\n",
    "print spam[1:7:2]                           # Use another colon and a third int to specify the step\n",
    "\n",
    "print spam[::2]\n",
    "print spam[::-2]                             # A negative step traverse the sequence in the other way\n",
    "\n",
    "print spam[::-1]                             # Useful to reverse a sequence"
   ]
  },
  {
   "cell_type": "markdown",
   "metadata": {},
   "source": [
    "### In slicing Python is able to cleverly set the indexes\n",
    "- No IndexError when slicing index is out of range\n",
    "- First (0) and last (-1) index is automatically filled\n",
    "- Step is 1 by default and does not need to be multiple of sequence length"
   ]
  },
  {
   "cell_type": "code",
   "execution_count": null,
   "metadata": {
    "collapsed": false
   },
   "outputs": [],
   "source": [
    "# Let's try something different\n",
    "\n",
    "spam = [\"1st\", \"2nd\", \"3rd\", \"4th\", \"5th\"]\n",
    "spam[3] = 1\n",
    "print spam                                  # Index direct modification, may raise an exception"
   ]
  },
  {
   "cell_type": "markdown",
   "metadata": {},
   "source": [
    "### Let's see some slice modifications"
   ]
  },
  {
   "cell_type": "code",
   "execution_count": null,
   "metadata": {
    "collapsed": false
   },
   "outputs": [],
   "source": [
    "spam = [1, 2, 3, 4, 5]\n",
    "eggs = ['a', 'b', 'c']\n",
    "spam[1:3] = eggs\n",
    "print spam              # We can use slicing here too!"
   ]
  },
  {
   "cell_type": "code",
   "execution_count": null,
   "metadata": {
    "collapsed": false
   },
   "outputs": [],
   "source": [
    "spam = [1, 2, 3, 4, 5, 6, 7, 8]\n",
    "eggs = ['a', 'b', 'c']\n",
    "spam[1:7:2] = eggs\n",
    "print spam                       # We can use even slicing with step!!"
   ]
  },
  {
   "cell_type": "code",
   "execution_count": null,
   "metadata": {
    "collapsed": false
   },
   "outputs": [],
   "source": [
    "spam = [1, 2, 3, 4, 5]\n",
    "spam.append(\"a\")\n",
    "print spam              # We can append an element at the end (amortized O(1))"
   ]
  },
  {
   "cell_type": "code",
   "execution_count": null,
   "metadata": {
    "collapsed": false
   },
   "outputs": [],
   "source": [
    "spam = [1, 2, 3, 4, 5]\n",
    "eggs = ['a', 'b', 'c']\n",
    "spam.extend(eggs)\n",
    "print spam              # We can append another sequence elements at the end (amortized O(1))"
   ]
  },
  {
   "cell_type": "code",
   "execution_count": null,
   "metadata": {
    "collapsed": false
   },
   "outputs": [],
   "source": [
    "spam = [1, 2, 3, 4, 5]\n",
    "eggs = ['a', 'b', 'c']\n",
    "spam.append(eggs)\n",
    "print spam              # Take care to not mix both commands!!"
   ]
  },
  {
   "cell_type": "code",
   "execution_count": null,
   "metadata": {
    "collapsed": false
   },
   "outputs": [],
   "source": [
    "spam = [1, 2, 3, 4, 5]\n",
    "spam.insert(3, \"a\")\n",
    "print spam              # The same like spam[3:3] = [\"a\"]"
   ]
  },
  {
   "cell_type": "code",
   "execution_count": null,
   "metadata": {
    "collapsed": false
   },
   "outputs": [],
   "source": [
    "spam = [1, 2, 3, 4, 5]\n",
    "print spam.pop()\n",
    "print spam              # Pop (remove and return) last item\n",
    "print spam.pop(2)\n",
    "print spam              # Pop (remove and return) given item"
   ]
  },
  {
   "cell_type": "code",
   "execution_count": null,
   "metadata": {
    "collapsed": false
   },
   "outputs": [],
   "source": [
    "spam = [1, 2, 3, 4, 5]\n",
    "del spam[3]\n",
    "print spam              # Delete an item"
   ]
  },
  {
   "cell_type": "code",
   "execution_count": null,
   "metadata": {
    "collapsed": false
   },
   "outputs": [],
   "source": [
    "spam = tuple([1, 2, 3, 4, 5, 6, 7, 8])\n",
    "eggs = list(('a', 'b', 'c'))            # Shallow copy constructors\n",
    "print spam\n",
    "print eggs"
   ]
  },
  {
   "cell_type": "markdown",
   "metadata": {},
   "source": [
    "#### SOURCES\n",
    "\n",
    "  - http://docs.python.org/2/library/stdtypes.html#numeric-types-int-float-long-complex\n",
    "  - http://docs.python.org/2/tutorial/introduction.html#lists\n",
    "  - http://docs.python.org/2/tutorial/datastructures.html#tuples-and-sequences\n",
    "  - http://wiki.python.org/moin/TimeComplexity\n",
    "  - http://docs.python.org/2/tutorial/datastructures.html#sets\n",
    "  - http://docs.python.org/2/library/stdtypes.html#set-types-set-frozenset"
   ]
  },
  {
   "cell_type": "markdown",
   "metadata": {},
   "source": [
    "# DICTIONARIES"
   ]
  },
  {
   "cell_type": "code",
   "execution_count": null,
   "metadata": {
    "collapsed": false
   },
   "outputs": [],
   "source": [
    "spam = {\"one\": 1, \"two\": 2, \"three\": 3}  # This is a dictionary\n",
    "print spam"
   ]
  },
  {
   "cell_type": "code",
   "execution_count": null,
   "metadata": {
    "collapsed": false
   },
   "outputs": [],
   "source": [
    "print type(spam)"
   ]
  },
  {
   "cell_type": "code",
   "execution_count": null,
   "metadata": {
    "collapsed": false
   },
   "outputs": [],
   "source": [
    "eggs = {1: \"one\",\n",
    "        2: \"two\",\n",
    "        3: \"three\"}  # Again, no problem with multiline declaration\n",
    "print eggs"
   ]
  },
  {
   "cell_type": "markdown",
   "metadata": {},
   "source": [
    "#### Still more ways to declare dictionaries"
   ]
  },
  {
   "cell_type": "code",
   "execution_count": null,
   "metadata": {
    "collapsed": false
   },
   "outputs": [],
   "source": [
    "spam = dict(one=1, two=2, three=3)  # Use keyword arguments (we will talk about them in short)\n",
    "print spam"
   ]
  },
  {
   "cell_type": "code",
   "execution_count": null,
   "metadata": {
    "collapsed": false
   },
   "outputs": [],
   "source": [
    "eggs = dict([(1, \"one\"), (2, \"two\"), (3, \"three\")])  # Sequence of two elements sequences (key and object)\n",
    "print eggs                                           # Note that these tuples require the parentheses just to group"
   ]
  },
  {
   "cell_type": "code",
   "execution_count": null,
   "metadata": {
    "collapsed": false
   },
   "outputs": [],
   "source": [
    "spam = dict(eggs)  # Shallow copy constructor\n",
    "print spam"
   ]
  },
  {
   "cell_type": "markdown",
   "metadata": {},
   "source": [
    "### Python mappings\n",
    "  - dict:\n",
    "     - Comma-separated list of hashable key, colon and arbitrary object between curly brackets\n",
    "     - Mutable\n",
    "     - Unordered\n",
    "     - Access by key\n",
    "     - Heavily optimized:\n",
    "         - Creation with n items is O(n)\n",
    "         - Arbitrary access is O(1)\n",
    "         - Adding a new key is amortized O(1)\n",
    "  - dictview:\n",
    "     - Dynamic subset of a dictionary data which is kept updated\n",
    "     - Improved in Py3k (specially items, keys and values methods)\n",
    "     \n",
    "#### Let's play a bit with dictionaries"
   ]
  },
  {
   "cell_type": "code",
   "execution_count": null,
   "metadata": {
    "collapsed": false
   },
   "outputs": [],
   "source": [
    "spam = {\"one\": 1, \"two\": 2, \"three\": 3}\n",
    "print spam[\"two\"]                        # Access by key, may raise an exception"
   ]
  },
  {
   "cell_type": "code",
   "execution_count": null,
   "metadata": {
    "collapsed": false
   },
   "outputs": [],
   "source": [
    "spam = {\"one\": 1, \"two\": 2, \"three\": 3}\n",
    "print \"two\" in spam                      # Check keys membership\n",
    "print 2 not in spam                      # Check keys membership"
   ]
  },
  {
   "cell_type": "code",
   "execution_count": null,
   "metadata": {
    "collapsed": false
   },
   "outputs": [],
   "source": [
    "spam = {\"one\": 1, \"two\": 2, \"three\": 3}\n",
    "print spam.get(\"two\")\n",
    "print spam.get(\"four\")\n",
    "print spam.get(\"four\", 4)                # Safer access by key, never raises an exception, optional default value"
   ]
  },
  {
   "cell_type": "code",
   "execution_count": null,
   "metadata": {
    "collapsed": false
   },
   "outputs": [],
   "source": [
    "spam = {\"one\": 1, \"two\": 2, \"three\": 3}\n",
    "print spam.keys()                        # Retrieve keys list (copy) in arbitrary order\n",
    "print spam.values()                      # Retrieve values list (copy) in arbitrary order\n",
    "print spam.items()                       # Retrieve key, values pairs list (copy) in arbitrary order"
   ]
  },
  {
   "cell_type": "markdown",
   "metadata": {},
   "source": [
    "#### Let's play a bit with inplace modifications of dicts content"
   ]
  },
  {
   "cell_type": "code",
   "execution_count": null,
   "metadata": {
    "collapsed": false
   },
   "outputs": [],
   "source": [
    "spam = {\"one\": 1, \"two\": 2, \"three\": 3}\n",
    "spam[\"two\"] = 22                         # Set or replace a key value\n",
    "spam[\"four\"] = 44                        # Set or replace a key value\n",
    "print spam"
   ]
  },
  {
   "cell_type": "code",
   "execution_count": null,
   "metadata": {
    "collapsed": false
   },
   "outputs": [],
   "source": [
    "spam = {\"one\": 1, \"two\": 2, \"three\": 3}\n",
    "print spam.popitem()\n",
    "print spam"
   ]
  },
  {
   "cell_type": "code",
   "execution_count": null,
   "metadata": {
    "collapsed": false
   },
   "outputs": [],
   "source": [
    "spam = {\"one\": 1, \"two\": 2, \"three\": 3}\n",
    "print spam.pop(\"two\")                    # Pop (remove and return) given item, may raise an exception\n",
    "print spam.pop(\"four\", 4)                # Pop (remove and return) given item with optional default value\n",
    "print spam"
   ]
  },
  {
   "cell_type": "code",
   "execution_count": null,
   "metadata": {
    "collapsed": false
   },
   "outputs": [],
   "source": [
    "spam = {\"one\": 1, \"two\": 2, \"three\": 3}\n",
    "eggs = {\"three\": 33, \"four\": 44}\n",
    "spam.update(eggs)                        # Update dictionary with other dict content\n",
    "print spam"
   ]
  },
  {
   "cell_type": "code",
   "execution_count": null,
   "metadata": {
    "collapsed": false
   },
   "outputs": [],
   "source": [
    "spam = {\"one\": 1, \"two\": 2, \"three\": 3}\n",
    "eggs = {1: \"one\", 2: \"two\", 3: \"three\"}\n",
    "spam.update(two=22, four=44)             # Like dict constructor, it accepts keyword arguments\n",
    "eggs.update([(0, \"ZERO\"), (1, \"ONE\")])   # Like dict constructor, it accepts a sequence of pairs\n",
    "print spam\n",
    "print eggs"
   ]
  },
  {
   "cell_type": "markdown",
   "metadata": {},
   "source": [
    "### SOURCES:\n",
    "  - http://docs.python.org/2/library/stdtypes.html#mapping-types-dict\n",
    "  - http://stackoverflow.com/a/1419324\n",
    "  - http://wiki.python.org/moin/TimeComplexity"
   ]
  }
 ],
 "metadata": {
  "kernelspec": {
   "display_name": "Python 2",
   "language": "python",
   "name": "python2"
  },
  "language_info": {
   "codemirror_mode": {
    "name": "ipython",
    "version": 2
   },
   "file_extension": ".py",
   "mimetype": "text/x-python",
   "name": "python",
   "nbconvert_exporter": "python",
   "pygments_lexer": "ipython2",
   "version": "2.7.12"
  }
 },
 "nbformat": 4,
 "nbformat_minor": 1
}
