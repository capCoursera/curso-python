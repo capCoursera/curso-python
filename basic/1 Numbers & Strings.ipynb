{
 "cells": [
  {
   "cell_type": "markdown",
   "metadata": {},
   "source": [
    "# Numbers"
   ]
  },
  {
   "cell_type": "code",
   "execution_count": 2,
   "metadata": {
    "collapsed": false
   },
   "outputs": [
    {
     "name": "stdout",
     "output_type": "stream",
     "text": [
      "65\n"
     ]
    }
   ],
   "source": [
    "spam = 65              # an integer declaration. Yes, no semicolon ; at the end\n",
    "print spam             # print is a reserved keyword / statement"
   ]
  },
  {
   "cell_type": "code",
   "execution_count": 3,
   "metadata": {
    "collapsed": false
   },
   "outputs": [
    {
     "name": "stdout",
     "output_type": "stream",
     "text": [
      "<type 'int'>\n"
     ]
    }
   ],
   "source": [
    "print type(spam)       # this is a functional call"
   ]
  },
  {
   "cell_type": "code",
   "execution_count": 4,
   "metadata": {
    "collapsed": false
   },
   "outputs": [
    {
     "name": "stdout",
     "output_type": "stream",
     "text": [
      "2\n",
      "<type 'int'>\n"
     ]
    }
   ],
   "source": [
    "eggs = 2\n",
    "print eggs\n",
    "print type(eggs)"
   ]
  },
  {
   "cell_type": "markdown",
   "metadata": {},
   "source": [
    "### Let's see the numeric operations"
   ]
  },
  {
   "cell_type": "code",
   "execution_count": 8,
   "metadata": {
    "collapsed": false
   },
   "outputs": [
    {
     "name": "stdout",
     "output_type": "stream",
     "text": [
      "67\n",
      "63\n",
      "130\n",
      "32\n",
      "32\n",
      "1\n",
      "4225\n",
      "4225\n"
     ]
    }
   ],
   "source": [
    "print spam + eggs      # sum\n",
    "\n",
    "print spam - eggs      # difference\n",
    "\n",
    "print spam * eggs      # product\n",
    "\n",
    "print spam / eggs      # quotient\n",
    "\n",
    "print spam // eggs     # floored quotient\n",
    "\n",
    "print spam % eggs      # remainder or module\n",
    "\n",
    "print pow(spam, eggs)  # power (yes, this is how a funtion is called)\n",
    "\n",
    "print spam ** eggs     # power"
   ]
  },
  {
   "cell_type": "code",
   "execution_count": 9,
   "metadata": {
    "collapsed": false
   },
   "outputs": [
    {
     "name": "stdout",
     "output_type": "stream",
     "text": [
      "-2\n",
      "<type 'int'>\n"
     ]
    }
   ],
   "source": [
    "fooo = -2              # negative value\n",
    "print fooo\n",
    "print type(fooo)"
   ]
  },
  {
   "cell_type": "code",
   "execution_count": 24,
   "metadata": {
    "collapsed": false
   },
   "outputs": [
    {
     "name": "stdout",
     "output_type": "stream",
     "text": [
      "2\n",
      "-2\n",
      "2\n",
      "-2\n",
      "-2\n",
      "-2.0\n"
     ]
    },
    {
     "ename": "ValueError",
     "evalue": "invalid literal for int() with base 10: '23a'",
     "output_type": "error",
     "traceback": [
      "\u001b[0;31m---------------------------------------------------------------------------\u001b[0m",
      "\u001b[0;31mValueError\u001b[0m                                Traceback (most recent call last)",
      "\u001b[0;32m<ipython-input-24-9b23e5cadfe4>\u001b[0m in \u001b[0;36m<module>\u001b[0;34m()\u001b[0m\n\u001b[1;32m     13\u001b[0m \u001b[0;34m\u001b[0m\u001b[0m\n\u001b[1;32m     14\u001b[0m \u001b[0mint\u001b[0m\u001b[0;34m(\u001b[0m\u001b[0;34m\"23\"\u001b[0m\u001b[0;34m)\u001b[0m\u001b[0;34m\u001b[0m\u001b[0m\n\u001b[0;32m---> 15\u001b[0;31m \u001b[0;32mprint\u001b[0m \u001b[0mint\u001b[0m\u001b[0;34m(\u001b[0m\u001b[0;34m\"23a\"\u001b[0m\u001b[0;34m)\u001b[0m\u001b[0;34m\u001b[0m\u001b[0m\n\u001b[0m\u001b[1;32m     16\u001b[0m \u001b[0;32mprint\u001b[0m \u001b[0mtype\u001b[0m\u001b[0;34m(\u001b[0m\u001b[0mint\u001b[0m\u001b[0;34m(\u001b[0m\u001b[0;36m2\u001b[0m\u001b[0;34m)\u001b[0m\u001b[0;34m)\u001b[0m\u001b[0;34m\u001b[0m\u001b[0m\n",
      "\u001b[0;31mValueError\u001b[0m: invalid literal for int() with base 10: '23a'"
     ]
    }
   ],
   "source": [
    "print -fooo            # negated\n",
    "\n",
    "print +fooo            # unchanged\n",
    "\n",
    "print abs(fooo)        # absolute value\n",
    "\n",
    "print int(fooo)        # convert to integer\n",
    "\n",
    "print long(fooo)       # convert to long integer\n",
    "\n",
    "print float(fooo)      # convert to float\n",
    "import math\n",
    "\n",
    "int(\"23\")\n",
    "print int(\"23a\")\n",
    "print type(int(2))\n"
   ]
  },
  {
   "cell_type": "code",
   "execution_count": 25,
   "metadata": {
    "collapsed": false
   },
   "outputs": [
    {
     "name": "stdout",
     "output_type": "stream",
     "text": [
      "-1\n"
     ]
    }
   ],
   "source": [
    "fooo += 1              # autoincremental (there is no ++)\n",
    "print fooo"
   ]
  },
  {
   "cell_type": "code",
   "execution_count": 27,
   "metadata": {
    "collapsed": false
   },
   "outputs": [
    {
     "name": "stdout",
     "output_type": "stream",
     "text": [
      "32\n",
      "32.5\n",
      "32.0\n"
     ]
    }
   ],
   "source": [
    "# More on the quotient\n",
    "\n",
    "print spam / eggs          # quotient\n",
    "print spam / float(eggs)   # quotient\n",
    "print spam // float(eggs)  # floored quotient, aka. integer division"
   ]
  },
  {
   "cell_type": "code",
   "execution_count": 28,
   "metadata": {
    "collapsed": false
   },
   "outputs": [
    {
     "name": "stdout",
     "output_type": "stream",
     "text": [
      "<type 'int'>\n",
      "<type 'long'>\n",
      "<type 'float'>\n",
      "<type 'float'>\n"
     ]
    }
   ],
   "source": [
    "# More on the operations result type\n",
    "\n",
    "print type(spam + eggs)\n",
    "print type(long(spam) + eggs)\n",
    "print type(float(spam) + eggs)\n",
    "print type(float(spam) + long(eggs))"
   ]
  },
  {
   "cell_type": "markdown",
   "metadata": {},
   "source": [
    "#### Python automatically infers the type of the result depending on operands type"
   ]
  },
  {
   "cell_type": "code",
   "execution_count": 29,
   "metadata": {
    "collapsed": false
   },
   "outputs": [
    {
     "name": "stdout",
     "output_type": "stream",
     "text": [
      "36893488147419103232\n",
      "<type 'long'>\n",
      "9223372036854775807\n"
     ]
    }
   ],
   "source": [
    "# Let's try again the power\n",
    "\n",
    "print eggs ** spam\n",
    "print type(eggs ** spam)\n",
    "\n",
    "from sys import maxint\n",
    "print maxint"
   ]
  },
  {
   "cell_type": "code",
   "execution_count": 33,
   "metadata": {
    "collapsed": false
   },
   "outputs": [
    {
     "name": "stdout",
     "output_type": "stream",
     "text": [
      "65\n",
      "<type 'long'>\n",
      "2.0\n",
      "<type 'float'>\n",
      "65\n",
      "<type 'int'>\n",
      "65\n",
      "<type 'int'>\n"
     ]
    }
   ],
   "source": [
    "# Let's instantiate other values\n",
    "\n",
    "spam = 65L             # a long\n",
    "print spam\n",
    "print type(spam)\n",
    "\n",
    "eggs = 2.0             # a float\n",
    "print eggs\n",
    "print type(eggs)\n",
    "\n",
    "spam = 0101             # an integer in octet\n",
    "print spam\n",
    "print type(spam)\n",
    "\n",
    "spam = 0x41            # an integer in hexadecimal\n",
    "print spam\n",
    "print type(spam)"
   ]
  },
  {
   "cell_type": "code",
   "execution_count": 37,
   "metadata": {
    "collapsed": false
   },
   "outputs": [
    {
     "name": "stdout",
     "output_type": "stream",
     "text": [
      "65.031\n",
      "1.031\n",
      "65.031\n"
     ]
    }
   ],
   "source": [
    "# Let's do more complex operations\n",
    "\n",
    "print round(spam + eggs / spam, 3)    # round to n digits, 0 by default\n",
    "print round((spam + eggs) / spam, 3)  # round to n digits, 0 by default\n",
    "print round(spam + (eggs / spam), 3)  # round to n digits, 0 by default"
   ]
  },
  {
   "cell_type": "markdown",
   "metadata": {},
   "source": [
    "#### Use parentheses to alter operations order"
   ]
  },
  {
   "cell_type": "markdown",
   "metadata": {},
   "source": [
    "### SOURCES\n",
    "\n",
    "http://docs.python.org/2/library/stdtypes.html#numeric-types-int-float-long-complex"
   ]
  },
  {
   "cell_type": "markdown",
   "metadata": {},
   "source": [
    "# STRINGS"
   ]
  },
  {
   "cell_type": "code",
   "execution_count": 40,
   "metadata": {
    "collapsed": false
   },
   "outputs": [
    {
     "name": "stdout",
     "output_type": "stream",
     "text": [
      "spam\n",
      "<type 'str'>\n"
     ]
    }
   ],
   "source": [
    "spam = \"spam\"                    # a string\n",
    "print spam\n",
    "print type(spam)"
   ]
  },
  {
   "cell_type": "code",
   "execution_count": 47,
   "metadata": {
    "collapsed": false
   },
   "outputs": [
    {
     "name": "stdout",
     "output_type": "stream",
     "text": [
      "'eggs'\n",
      "<type 'str'>\n"
     ]
    }
   ],
   "source": [
    "eggs = \"'eggs'\"                # another string\n",
    "print eggs\n",
    "print type(eggs)"
   ]
  },
  {
   "cell_type": "code",
   "execution_count": 49,
   "metadata": {
    "collapsed": false
   },
   "outputs": [
    {
     "name": "stdout",
     "output_type": "stream",
     "text": [
      "'eggs'\n"
     ]
    }
   ],
   "source": [
    "eggs = '\\'eggs\\''                # another string\n",
    "print eggs"
   ]
  },
  {
   "cell_type": "code",
   "execution_count": 53,
   "metadata": {
    "collapsed": false
   },
   "outputs": [
    {
     "name": "stdout",
     "output_type": "stream",
     "text": [
      "'\tspam\n",
      "\teggs'\n",
      "<type 'str'>\n"
     ]
    }
   ],
   "source": [
    "spam_eggs = \"'\\tspam\\n\\teggs'\"   # another string\n",
    "print spam_eggs\n",
    "print type(spam_eggs)"
   ]
  },
  {
   "cell_type": "markdown",
   "metadata": {},
   "source": [
    "###  Remember  \n",
    "String literal are written in ingle or double quotes. It's exactly the same  \n",
    "Backslash \\ is the escape character  \n",
    "Escape sequences in strings are interpreted according to rules similar to those used by Standard C"
   ]
  },
  {
   "cell_type": "code",
   "execution_count": 54,
   "metadata": {
    "collapsed": false
   },
   "outputs": [
    {
     "name": "stdout",
     "output_type": "stream",
     "text": [
      "'\\tspam\\n\\teggs'\n",
      "<type 'str'>\n"
     ]
    }
   ],
   "source": [
    "spam_eggs = r\"'\\tspam\\n\\teggs'\"  # a raw string\n",
    "print spam_eggs\n",
    "print type(spam_eggs)"
   ]
  },
  {
   "cell_type": "markdown",
   "metadata": {},
   "source": [
    "- Raw strings are prefixed with 'r' or 'R'\n",
    "- Raw strings use different rules for interpreting interpreting backslash escape sequences"
   ]
  },
  {
   "cell_type": "code",
   "execution_count": 1,
   "metadata": {
    "collapsed": false
   },
   "outputs": [
    {
     "name": "stdout",
     "output_type": "stream",
     "text": [
      "'\tspam\n",
      "\teggs'\n",
      "<type 'unicode'>\n"
     ]
    }
   ],
   "source": [
    "spam_eggs = u\"'\\tspam\\n\\teggs'\"  # a unicode string\n",
    "print spam_eggs\n",
    "print type(spam_eggs)"
   ]
  },
  {
   "cell_type": "markdown",
   "metadata": {},
   "source": [
    "**Unicode** strings are prefixed with 'u' or 'U'\n",
    " - unicode is a basic data type different than str:\n",
    " - str is ALWAYS an encoded text (although you never notice it)\n",
    " - unicode use the Unicode character set as defined by the Unicode Consortium and ISO 10646. We could say unicode are encoding-free strings\n",
    " - str string literals are encoded in the default system encoding ( sys.getdefaultencoding() ) or using the encoding specified in modules encoding header\n",
    " - The module encoding header is set : #-*- coding: utf-8 -*-\n",
    " - There is no way to fully check a string encoding (chardet module)\n",
    " - Depending on encoding used it is possible to operate with unicode and str together"
   ]
  },
  {
   "cell_type": "code",
   "execution_count": 69,
   "metadata": {
    "collapsed": false
   },
   "outputs": [
    {
     "name": "stdout",
     "output_type": "stream",
     "text": [
      "'spam eggs'\n",
      "<type 'unicode'>\n"
     ]
    }
   ],
   "source": [
    "spam_eggs = u\"'spam\\u0020eggs'\"  # a unicode string with Unicode-Escape encoding\n",
    "print spam_eggs\n",
    "print type(spam_eggs)"
   ]
  },
  {
   "cell_type": "markdown",
   "metadata": {},
   "source": [
    "**WARNING**! Note that in Py3k this approach was radically changed:\n",
    " - All string literals are unicode by default and its type is 'str'\n",
    " - Encoded strings are specified with 'b' or 'B' prefix and its type is 'bytes'\n",
    " - Operations mixing str and bytes always raise a TypeError exception"
   ]
  },
  {
   "cell_type": "code",
   "execution_count": 72,
   "metadata": {
    "collapsed": false
   },
   "outputs": [
    {
     "name": "stdout",
     "output_type": "stream",
     "text": [
      "'\tspam\n",
      "hola\n",
      "\teggs'\n",
      "<type 'str'>\n"
     ]
    }
   ],
   "source": [
    "spam_eggs = \"\"\"'\\tspam\n",
    "hola\n",
    "\\teggs'\"\"\"                       # another string\n",
    "print spam_eggs\n",
    "print type(spam_eggs)"
   ]
  },
  {
   "cell_type": "markdown",
   "metadata": {},
   "source": [
    "##### Three single or double quotes also work, and they support multiline text"
   ]
  },
  {
   "cell_type": "code",
   "execution_count": 74,
   "metadata": {
    "collapsed": false
   },
   "outputs": [
    {
     "name": "stdout",
     "output_type": "stream",
     "text": [
      "'\tspam\n",
      "\teggs'\n",
      "<type 'str'>\n"
     ]
    }
   ],
   "source": [
    "spam_eggs = \"'\\tspam\" \"\\n\\teggs'\"  # another string\n",
    "print spam_eggs\n",
    "print type(spam_eggs)"
   ]
  },
  {
   "cell_type": "markdown",
   "metadata": {},
   "source": [
    "- Several consecutive string literals are automatically concatenated, even if declared in different consecutive lines\n",
    "- Useful to declare too much long string literals"
   ]
  },
  {
   "cell_type": "code",
   "execution_count": 80,
   "metadata": {
    "collapsed": false
   },
   "outputs": [
    {
     "ename": "SyntaxError",
     "evalue": "EOL while scanning string literal (<ipython-input-80-8a1d9546e846>, line 1)",
     "output_type": "error",
     "traceback": [
      "\u001b[0;36m  File \u001b[0;32m\"<ipython-input-80-8a1d9546e846>\"\u001b[0;36m, line \u001b[0;32m1\u001b[0m\n\u001b[0;31m    spam_eggs = u\"'\\tspam\\n\u001b[0m\n\u001b[0m                           ^\u001b[0m\n\u001b[0;31mSyntaxError\u001b[0m\u001b[0;31m:\u001b[0m EOL while scanning string literal\n"
     ]
    }
   ],
   "source": [
    "spam_eggs = u\"'\\tspam\\n \\\n",
    "\\teggs'\"  # a unicode string\n",
    "print spam_eggs\n",
    "print type(spam_eggs)"
   ]
  },
  {
   "cell_type": "markdown",
   "metadata": {},
   "source": [
    "##### Let's see strings operations"
   ]
  },
  {
   "cell_type": "code",
   "execution_count": 2,
   "metadata": {
    "collapsed": true
   },
   "outputs": [],
   "source": [
    "spam = \"spam\"\n",
    "eggs = u'\"Eggs\"'"
   ]
  },
  {
   "cell_type": "code",
   "execution_count": 92,
   "metadata": {
    "collapsed": false
   },
   "outputs": [
    {
     "name": "stdout",
     "output_type": "stream",
     "text": [
      "Spam\n",
      "spam\n",
      "Spam\n"
     ]
    }
   ],
   "source": [
    "print spam.capitalize()                    # Return a copy with first character in upper case\n",
    "\n",
    "print spam\n",
    "\n",
    "spam = spam.capitalize()\n",
    "print spam"
   ]
  },
  {
   "cell_type": "markdown",
   "metadata": {},
   "source": [
    "**WARNING**! String are immutables. Its methods return always a new copy "
   ]
  },
  {
   "cell_type": "code",
   "execution_count": 108,
   "metadata": {
    "collapsed": false
   },
   "outputs": [
    {
     "name": "stdout",
     "output_type": "stream",
     "text": [
      "eñe\n",
      "<type 'str'>\n",
      "eñe\n"
     ]
    }
   ],
   "source": [
    "spam = \"eñe\"\n",
    "print spam\n",
    "print type(spam)\n",
    "print spam.decode(\"utf-8\")                        # Decode the str with given or default encoding\n"
   ]
  },
  {
   "cell_type": "code",
   "execution_count": 109,
   "metadata": {
    "collapsed": false
   },
   "outputs": [
    {
     "name": "stdout",
     "output_type": "stream",
     "text": [
      "\"Eggs\"\n",
      "<type 'str'>\n",
      "False\n"
     ]
    }
   ],
   "source": [
    "print eggs.encode()                        # Encode the unicode with given or default encoding\n",
    "print type(eggs.encode('utf8'))\n",
    "\n",
    "print spam.endswith(\"am\")                  # Check string suffix (optionally use a tuple)"
   ]
  },
  {
   "cell_type": "code",
   "execution_count": 3,
   "metadata": {
    "collapsed": false
   },
   "outputs": [
    {
     "name": "stdout",
     "output_type": "stream",
     "text": [
      "False\n",
      "1\n",
      "\"EGGS\"\n",
      "\"eggs\"\n",
      "False\n",
      "True\n",
      "'| spam #'\n",
      "'spam'\n",
      "True\n",
      "False\n",
      "False\n"
     ]
    }
   ],
   "source": [
    "print eggs.startswith((\"eggs\", \"huevos\"))  # Check string prefix (optionally use a tuple)\n",
    "\n",
    "print spam.find(\"pa\")                      # Get index of substring (or -1)\n",
    "\n",
    "print eggs.upper()\n",
    "print eggs.lower()                         # Convert to upper or lower case\n",
    "\n",
    "print spam.isupper()\n",
    "print spam.islower()                       # Check if string is in upper or lower case\n",
    "\n",
    "print repr(\" | spam # \".strip())\n",
    "print repr(\" | spam # \".strip(' |#'))      # Remove leading and trailing characters (only whitespace by default)\n",
    "\n",
    "print spam.isalpha()\n",
    "print eggs.isalnum()\n",
    "print spam.isdigit()                       # Check if string is numeric, alpha, both..."
   ]
  },
  {
   "cell_type": "code",
   "execution_count": 8,
   "metadata": {
    "collapsed": false
   },
   "outputs": [
    {
     "name": "stdout",
     "output_type": "stream",
     "text": [
      "u'Eggs con e\\xf1e'\n",
      "Eggs con eñe\n"
     ]
    }
   ],
   "source": [
    "eggs = u\"Eggs con eñe\"\n",
    "print repr(eggs)\n",
    "print str(eggs.encode('UTF-8'))"
   ]
  },
  {
   "cell_type": "markdown",
   "metadata": {},
   "source": [
    "### NOTE:\n",
    "The **repr** module provides a means for producing object representations with limits on the size of the resulting strings. This is used in the Python debugger and may be useful in other contexts as well.  \n",
    "**str** Return a string containing a nicely printable representation of an object. For strings, this returns the string itself. The difference with repr(object) is that str(object) does not always attempt to return a string that is acceptable to eval(); its goal is to return a printable string. If no argument is given, returns the empty string, ''.\n"
   ]
  },
  {
   "cell_type": "code",
   "execution_count": 14,
   "metadata": {
    "collapsed": false
   },
   "outputs": [
    {
     "name": "stdout",
     "output_type": "stream",
     "text": [
      "['spam', 'eggs', 'foo']\n",
      "['spam', 'eggs, foo']\n",
      "spam, eggs, foo\n"
     ]
    }
   ],
   "source": [
    "print \"spam, eggs, foo\".split(\", \")\n",
    "print \"spam, eggs, foo\".split(\", \", 1)     # Split by given character, returning a list (optionally specify times to split)\n",
    "\n",
    "print \", \".join((\"spam\", \"eggs\", \"foo\"))   # Use string as separator to concatenate an iterable of strings"
   ]
  },
  {
   "cell_type": "markdown",
   "metadata": {},
   "source": [
    "#### Let's format strings"
   ]
  },
  {
   "cell_type": "code",
   "execution_count": 15,
   "metadata": {
    "collapsed": false
   },
   "outputs": [
    {
     "name": "stdout",
     "output_type": "stream",
     "text": [
      "spam spam 7\n"
     ]
    }
   ],
   "source": [
    "print \"%s %s %d\" % (spam, spam, 7)         # This is the old string formatting, similar to C"
   ]
  },
  {
   "cell_type": "code",
   "execution_count": 27,
   "metadata": {
    "collapsed": false
   },
   "outputs": [
    {
     "name": "stdout",
     "output_type": "stream",
     "text": [
      "spam spam 7\n",
      "{ spam 7.12345\n"
     ]
    }
   ],
   "source": [
    "print \"{0} {0} {1}\".format(spam, 7)        # This is the new string formatting method, standard in Py3k\n",
    "\n",
    "print \"{{ {} {}\".format(spam, 7.12345)"
   ]
  },
  {
   "cell_type": "code",
   "execution_count": 28,
   "metadata": {
    "collapsed": false
   },
   "outputs": [
    {
     "name": "stdout",
     "output_type": "stream",
     "text": [
      "[        -7.12345|         7.12345]\n",
      "[        -7.12345|7.12345         ]\n",
      "[     -7.123     |     7.123      ]\n",
      "[_____-7.123_____|_____7.123______]\n",
      "[     -7.123     |     +7.123     ]\n",
      "1000001 A 101 41\n"
     ]
    }
   ],
   "source": [
    "print \"[{0:16}|{1:16}]\".format(-7.12345, 7.12345)  # Use colon and width of formatted value\n",
    "\n",
    "print \"[{0:>16}|{1:<16}]\".format(-7.12345, 7.12345)  # Use <, >, =, ^ to specify the alignment of the value\n",
    "\n",
    "print \"[{0:^16.3f}|{1:^16.3f}]\".format(-7.12345, 7.12345)  # For floats, use the dot . and the f to specify precission of floats\n",
    "\n",
    "print \"[{0:_^16.3f}|{1:_^16.3f}]\".format(-7.12345, 7.12345)  # Specify the filling value before the alignment\n",
    "\n",
    "print \"[{0:^+16.3f}|{1:^+16.3f}]\".format(-7.12345, 7.12345)  # Force the sign appearance\n",
    "\n",
    "print \"{0:b} {0:c} {0:o} {0:x}\".format(65)  # For integers, specify base representation (binary, unicode character, octal, hexadecimal"
   ]
  },
  {
   "cell_type": "markdown",
   "metadata": {},
   "source": [
    "### SOURCES:\n",
    "- http://docs.python.org/2/library/stdtypes.html#numeric-types-int-float-long-complex\n",
    "- http://docs.python.org/2/reference/lexical_analysis.html#strings\n",
    "- http://docs.python.org/2/reference/lexical_analysis.html#encodings\n",
    "- http://docs.python.org/2/library/stdtypes.html#string-methods\n",
    "- http://docs.python.org/2/library/string.html#formatstrings"
   ]
  },
  {
   "cell_type": "markdown",
   "metadata": {},
   "source": [
    "## TIME TO START WORKING"
   ]
  },
  {
   "cell_type": "code",
   "execution_count": 29,
   "metadata": {
    "collapsed": false
   },
   "outputs": [
    {
     "ename": "SyntaxError",
     "evalue": "EOF while scanning triple-quoted string literal (<ipython-input-29-69fa844c07e8>, line 12)",
     "output_type": "error",
     "traceback": [
      "\u001b[0;36m  File \u001b[0;32m\"<ipython-input-29-69fa844c07e8>\"\u001b[0;36m, line \u001b[0;32m12\u001b[0m\n\u001b[0;31m    assert minimum(2,3) == 2\u001b[0m\n\u001b[0m                            \n^\u001b[0m\n\u001b[0;31mSyntaxError\u001b[0m\u001b[0;31m:\u001b[0m EOF while scanning triple-quoted string literal\n"
     ]
    }
   ],
   "source": [
    "# use every cell to run and make the assert pass\n",
    "# Exercise: write the code \n",
    "def minimum(a, b):\n",
    "    \"\"\"Computes minimum of given 2 numbers.\n",
    "    \n",
    "        >>> minimum(2, 3)\n",
    "        2\n",
    "        >>> minimum(8, 5)\n",
    "        5\n",
    "        \"\"\"\"\"\"\n",
    "\n",
    "assert minimum(2,3) == 2"
   ]
  },
  {
   "cell_type": "code",
   "execution_count": 43,
   "metadata": {
    "collapsed": false
   },
   "outputs": [
    {
     "ename": "AssertionError",
     "evalue": "",
     "output_type": "error",
     "traceback": [
      "\u001b[0;31m---------------------------------------------------------------------------\u001b[0m",
      "\u001b[0;31mAssertionError\u001b[0m                            Traceback (most recent call last)",
      "\u001b[0;32m<ipython-input-43-b17a976e2b80>\u001b[0m in \u001b[0;36m<module>\u001b[0;34m()\u001b[0m\n\u001b[1;32m     11\u001b[0m     \u001b[0;31m# your code here\u001b[0m\u001b[0;34m\u001b[0m\u001b[0;34m\u001b[0m\u001b[0m\n\u001b[1;32m     12\u001b[0m \u001b[0;34m\u001b[0m\u001b[0m\n\u001b[0;32m---> 13\u001b[0;31m \u001b[0;32massert\u001b[0m \u001b[0mistrcmp\u001b[0m\u001b[0;34m(\u001b[0m\u001b[0;34m\"HoLa\"\u001b[0m\u001b[0;34m,\u001b[0m \u001b[0;34m\"hola\"\u001b[0m\u001b[0;34m)\u001b[0m \u001b[0;34m==\u001b[0m \u001b[0mTrue\u001b[0m\u001b[0;34m\u001b[0m\u001b[0m\n\u001b[0m",
      "\u001b[0;31mAssertionError\u001b[0m: "
     ]
    }
   ],
   "source": [
    "def istrcmp(s1, s2):\n",
    "    \"\"\"Compare given two strings for equality, ignoring the case.\n",
    "    \n",
    "    \t>>> istrcmp(\"python\", \"Python\")\n",
    "        True\n",
    "    \t>>> istrcmp(\"latex\", \"LaTeX\")\n",
    "        True\n",
    "    \t>>> istrcmp(\"foo\", \"Bar\")\n",
    "        False\n",
    "    \"\"\"\n",
    "    # your code here\n",
    "\n",
    "assert istrcmp(\"HoLa\", \"hola\") == True"
   ]
  },
  {
   "cell_type": "code",
   "execution_count": 44,
   "metadata": {
    "collapsed": false
   },
   "outputs": [
    {
     "ename": "AssertionError",
     "evalue": "",
     "output_type": "error",
     "traceback": [
      "\u001b[0;31m---------------------------------------------------------------------------\u001b[0m",
      "\u001b[0;31mAssertionError\u001b[0m                            Traceback (most recent call last)",
      "\u001b[0;32m<ipython-input-44-8e0db9a1c30b>\u001b[0m in \u001b[0;36m<module>\u001b[0;34m()\u001b[0m\n\u001b[1;32m      7\u001b[0m     \u001b[0;31m# your code here\u001b[0m\u001b[0;34m\u001b[0m\u001b[0;34m\u001b[0m\u001b[0m\n\u001b[1;32m      8\u001b[0m \u001b[0;34m\u001b[0m\u001b[0m\n\u001b[0;32m----> 9\u001b[0;31m \u001b[0;32massert\u001b[0m \u001b[0mreverse_text_by_word\u001b[0m\u001b[0;34m(\u001b[0m\u001b[0;34m'Sparse is better than dense.'\u001b[0m\u001b[0;34m)\u001b[0m \u001b[0;34m==\u001b[0m \u001b[0;34m'dense. than better is Sparse'\u001b[0m\u001b[0;34m\u001b[0m\u001b[0m\n\u001b[0m\u001b[1;32m     10\u001b[0m \u001b[0;34m\u001b[0m\u001b[0m\n",
      "\u001b[0;31mAssertionError\u001b[0m: "
     ]
    }
   ],
   "source": [
    "def reverse_text_by_word(text):\n",
    "    '''given a text, reverse it by words\n",
    "\n",
    "        >>> reverse_text_by_word('Sparse is better than dense.')\n",
    "        'dense. than better is Sparse'\n",
    "    '''\n",
    "    # your code here\n",
    "\n",
    "assert reverse_text_by_word('Sparse is better than dense.') == 'dense. than better is Sparse'\n",
    "    "
   ]
  },
  {
   "cell_type": "code",
   "execution_count": null,
   "metadata": {
    "collapsed": false
   },
   "outputs": [],
   "source": [
    "def sum_chars_text(text):\n",
    "    '''given a text str, add all chars by its code\n",
    "        tip:\n",
    "            >>> c = 'c'\n",
    "            >>> ord(c)\n",
    "            99\n",
    "    '''\n",
    "    # your code here\n",
    "\n",
    "assert sum_chars_text(\"Sume de caracteres\") == 1728"
   ]
  }
 ],
 "metadata": {
  "kernelspec": {
   "display_name": "Python 2",
   "language": "python",
   "name": "python2"
  },
  "language_info": {
   "codemirror_mode": {
    "name": "ipython",
    "version": 2
   },
   "file_extension": ".py",
   "mimetype": "text/x-python",
   "name": "python",
   "nbconvert_exporter": "python",
   "pygments_lexer": "ipython2",
   "version": "2.7.12"
  }
 },
 "nbformat": 4,
 "nbformat_minor": 1
}
