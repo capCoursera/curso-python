{
 "cells": [
  {
   "cell_type": "markdown",
   "metadata": {},
   "source": [
    "# Booleans"
   ]
  },
  {
   "cell_type": "code",
   "execution_count": null,
   "metadata": {
    "collapsed": false
   },
   "outputs": [],
   "source": [
    "# Let's declare some bools\n",
    "\n",
    "spam = True\n",
    "print spam\n",
    "\n",
    "print type(spam)\n",
    "\n",
    "\n",
    "eggs = False\n",
    "print eggs\n",
    "\n",
    "print type(eggs)"
   ]
  },
  {
   "cell_type": "markdown",
   "metadata": {},
   "source": [
    "### Python truth value testing\n",
    "  - Any object can be tested for truth value\n",
    "  - Truth value testing is used in flow control or in Boolean operations\n",
    "  - All objects are evaluated as True except:\n",
    "     - None (aka. null)\n",
    "     - False\n",
    "     - Zero of any numeric type: 0, 0L, 0.0, 0j, 0x0, 00\n",
    "     - Any empty sequence or mapping: '', [], (), {}\n",
    "     - Instances of user-defined classes implementing __nonzero__ or __len__ method\n",
    "        and returning 0 or False"
   ]
  },
  {
   "cell_type": "code",
   "execution_count": null,
   "metadata": {
    "collapsed": false
   },
   "outputs": [],
   "source": [
    "# Let's try boolean operations\n",
    "\n",
    "print True or True\n",
    "print True or False\n",
    "print False or True   # Boolean or. Short-circuited, so it only evaluates the second argument if the first one is False"
   ]
  },
  {
   "cell_type": "code",
   "execution_count": null,
   "metadata": {
    "collapsed": false
   },
   "outputs": [],
   "source": [
    "print True and True\n",
    "print True and False\n",
    "print False and True  # Boolean or. Short-circuited, so it only evaluates the second argument if the first one is True"
   ]
  },
  {
   "cell_type": "code",
   "execution_count": null,
   "metadata": {
    "collapsed": false
   },
   "outputs": [],
   "source": [
    "print not True\n",
    "print not False"
   ]
  },
  {
   "cell_type": "code",
   "execution_count": null,
   "metadata": {
    "collapsed": true
   },
   "outputs": [],
   "source": [
    "# So, if all objects can be tested for truth, let's try something different\n",
    "\n",
    "spam = [1.2345, 7, \"x\"]\n",
    "eggs = (\"a\", 0x07, True)\n",
    "fooo = \"aeiou\""
   ]
  },
  {
   "cell_type": "code",
   "execution_count": null,
   "metadata": {
    "collapsed": false
   },
   "outputs": [],
   "source": [
    "print spam or eggs"
   ]
  },
  {
   "cell_type": "code",
   "execution_count": null,
   "metadata": {
    "collapsed": false
   },
   "outputs": [],
   "source": [
    "# Did you expect it to print True?\n",
    "print fooo or []\n",
    "print \"\" or eggs\n",
    "print spam and eggs"
   ]
  },
  {
   "cell_type": "code",
   "execution_count": null,
   "metadata": {
    "collapsed": false
   },
   "outputs": [],
   "source": [
    "print fooo and ()\n",
    "print [] and eggs\n",
    "print not spam\n",
    "print not \"\""
   ]
  },
  {
   "cell_type": "code",
   "execution_count": null,
   "metadata": {
    "collapsed": false
   },
   "outputs": [],
   "source": [
    "print spam and eggs or \"abcd\" and False\n",
    "print (spam and eggs) or (\"abcd\" and False)\n",
    "print spam and (eggs or \"abcd\") and False\n",
    "print spam and (eggs or \"abcd\" and False)"
   ]
  },
  {
   "cell_type": "markdown",
   "metadata": {},
   "source": [
    "### Python boolean operands:\n",
    "  - ALWAYS return one of the incoming arguments!\n",
    "     - x or y  => if x is false, then y, else x\n",
    "     - x and y => if x is false, then x, else y\n",
    "     - not x   => if x is false, then True, else False\n",
    "  - They are short-circuited, so second argument is not always evaluated\n",
    "  - Can take any object type as arguments\n",
    "     - Even function calls, so boolean operands are used for flow control\n",
    "  - Parentheses may be used to change order of boolean operands or comparissons\n",
    "  \n",
    "### What about comparisons?"
   ]
  },
  {
   "cell_type": "code",
   "execution_count": null,
   "metadata": {
    "collapsed": false
   },
   "outputs": [],
   "source": [
    "spam = 2\n",
    "eggs = 2.5\n",
    "\n",
    "print spam == 2         # equal\n",
    "\n",
    "print spam != eggs      # not equal"
   ]
  },
  {
   "cell_type": "code",
   "execution_count": null,
   "metadata": {
    "collapsed": false
   },
   "outputs": [],
   "source": [
    "print spam >= eggs      # greater than or equal\n",
    "\n",
    "print spam > eggs       # strictly greater than\n",
    "\n",
    "print spam <= eggs      # less than or equal\n",
    "\n",
    "print spam < eggs       # strictly less than"
   ]
  },
  {
   "cell_type": "code",
   "execution_count": null,
   "metadata": {
    "collapsed": false
   },
   "outputs": [],
   "source": [
    "print spam is 2         # object identity, useful to compare with None (discussed latter)\n",
    "\n",
    "print spam is not None  # negated object identity"
   ]
  },
  {
   "cell_type": "markdown",
   "metadata": {},
   "source": [
    "# Flow Control"
   ]
  },
  {
   "cell_type": "markdown",
   "metadata": {},
   "source": [
    "### Let's start with the conditional execution"
   ]
  },
  {
   "cell_type": "code",
   "execution_count": null,
   "metadata": {
    "collapsed": false
   },
   "outputs": [],
   "source": [
    "spam = [1, 2, 3]  # True\n",
    "eggs = \"\"         # False\n",
    "\n",
    "if spam:\n",
    "    print \"spam is True\"\n",
    "else:\n",
    "    print \"spam is False\"\n",
    "\n",
    "print \"outside the conditional\"  # Notice that theres is no closing fi statement\n"
   ]
  },
  {
   "cell_type": "code",
   "execution_count": null,
   "metadata": {
    "collapsed": false
   },
   "outputs": [],
   "source": [
    "if spam:\n",
    "    print \"spam is True\"\n",
    "else:\n",
    "    print \"spam is False\"\n",
    "\n",
    "    print \"still inside the conditional\""
   ]
  },
  {
   "cell_type": "markdown",
   "metadata": {},
   "source": [
    "### REMEMBER:\n",
    "- Indentation is Python's way of grouping statements!!\n",
    "    - Typically four spaces per indentation level\n",
    "    - No curly brackets { } or semicolons ; used anywhere\n",
    "    - This enforces a more readable code"
   ]
  },
  {
   "cell_type": "code",
   "execution_count": null,
   "metadata": {
    "collapsed": false
   },
   "outputs": [],
   "source": [
    "if eggs:\n",
    "    print \"eggs is True\"\n",
    "elif spam:\n",
    "    print \"eggs is False and spam is True\"\n",
    "else:\n",
    "    print \"eggs and spam are False\""
   ]
  },
  {
   "cell_type": "code",
   "execution_count": null,
   "metadata": {
    "collapsed": false
   },
   "outputs": [],
   "source": [
    "if eggs:\n",
    "    print \"eggs is True\"\n",
    "elif max(spam) > 5:\n",
    "    print \"eggs is False and second condition is True\"\n",
    "elif len(spam) == 3 and not eggs is None:\n",
    "    print \"third condition is true\"\n",
    "else:\n",
    "    print \"everything is False\""
   ]
  },
  {
   "cell_type": "markdown",
   "metadata": {},
   "source": [
    "### Let's see the ternary operator"
   ]
  },
  {
   "cell_type": "code",
   "execution_count": null,
   "metadata": {
    "collapsed": false
   },
   "outputs": [],
   "source": [
    "spam = [1, 2, 3]  # True\n",
    "eggs = \"\"         # False\n",
    "\n",
    "print \"first option\" if spam else \"second option\""
   ]
  },
  {
   "cell_type": "code",
   "execution_count": null,
   "metadata": {
    "collapsed": false
   },
   "outputs": [],
   "source": [
    "print \"first option\" if eggs else \"second option\""
   ]
  },
  {
   "cell_type": "code",
   "execution_count": null,
   "metadata": {
    "collapsed": false
   },
   "outputs": [],
   "source": [
    "print \"first option\" if eggs else \"second option\" if spam else \"last option\"  # We can even concatenate them"
   ]
  },
  {
   "cell_type": "code",
   "execution_count": null,
   "metadata": {
    "collapsed": false
   },
   "outputs": [],
   "source": [
    "print \"first option\" if eggs else (\"second option\" if spam else \"last option\")"
   ]
  },
  {
   "cell_type": "markdown",
   "metadata": {},
   "source": [
    "### Time for the while loop"
   ]
  },
  {
   "cell_type": "code",
   "execution_count": null,
   "metadata": {
    "collapsed": false
   },
   "outputs": [],
   "source": [
    "spam = [1, 2, 3]\n",
    "while len(spam) > 0:\n",
    "    print spam.pop(0)"
   ]
  },
  {
   "cell_type": "code",
   "execution_count": null,
   "metadata": {
    "collapsed": false
   },
   "outputs": [],
   "source": [
    "spam = [1, 2, 3]\n",
    "idx = 0\n",
    "while idx < len(spam):\n",
    "    print spam[idx]\n",
    "    idx += 1"
   ]
  },
  {
   "cell_type": "markdown",
   "metadata": {},
   "source": [
    "### What about the for loop?"
   ]
  },
  {
   "cell_type": "code",
   "execution_count": null,
   "metadata": {
    "collapsed": false
   },
   "outputs": [],
   "source": [
    "spam = [1, 2, 3]\n",
    "for item in spam:        # The for loop only iterates over the items of a sequence\n",
    "    print item"
   ]
  },
  {
   "cell_type": "code",
   "execution_count": null,
   "metadata": {
    "collapsed": false
   },
   "outputs": [],
   "source": [
    "spam = [1, 2, 3]\n",
    "for item in spam[::-1]:  # As we saw, slicing may be slow. Keep it in mind\n",
    "    print item"
   ]
  },
  {
   "cell_type": "code",
   "execution_count": null,
   "metadata": {
    "collapsed": false
   },
   "outputs": [],
   "source": [
    "eggs = \"eggs\"\n",
    "for letter in eggs:      # It can loop over characters of a string\n",
    "    print letter"
   ]
  },
  {
   "cell_type": "code",
   "execution_count": null,
   "metadata": {
    "collapsed": false
   },
   "outputs": [],
   "source": [
    "spam = {\"one\": 1,\n",
    "        \"two\": 2,\n",
    "        \"three\": 3}\n",
    "for key in spam:         # Or even it can interate through a dictionary\n",
    "    print spam[key]      # Note that it iterates over the keys of the dictionary"
   ]
  },
  {
   "cell_type": "markdown",
   "metadata": {},
   "source": [
    "### Let's see how to interact with loops iterations"
   ]
  },
  {
   "cell_type": "code",
   "execution_count": null,
   "metadata": {
    "collapsed": false
   },
   "outputs": [],
   "source": [
    "spam = [1, 2, 3]\n",
    "for item in spam:\n",
    "    if item == 2:\n",
    "        break\n",
    "    print item"
   ]
  },
  {
   "cell_type": "markdown",
   "metadata": {},
   "source": [
    "- **break** statement halts a loop execution (inside while or for)\n",
    "- Only affects the closer inner (or smallest enclosing) loop"
   ]
  },
  {
   "cell_type": "code",
   "execution_count": null,
   "metadata": {
    "collapsed": false
   },
   "outputs": [],
   "source": [
    "# A bit more complicated example\n",
    "spam = [\"one\", \"two\", \"three\"]\n",
    "for item in spam:                 # This loop is never broken\n",
    "    for letter in item:\n",
    "        if letter in \"wh\":        # Check if letter is either 'w' or 'h'\n",
    "            break                 # Break only the immediate inner loop\n",
    "        print letter\n",
    "    print                         # It prints a break line (empty line)"
   ]
  },
  {
   "cell_type": "code",
   "execution_count": null,
   "metadata": {
    "collapsed": false
   },
   "outputs": [],
   "source": [
    "# A bit different example\n",
    "spam = [\"one\", \"two\", \"three\"]\n",
    "for item in spam:\n",
    "    for letter in item:\n",
    "        if letter in \"whe\":       # Check if letter is either 'w', 'h' or 'e'\n",
    "            continue              # Halt only current iteration, but continue the loop\n",
    "        print letter\n",
    "    print"
   ]
  },
  {
   "cell_type": "markdown",
   "metadata": {},
   "source": [
    "- **continue** statement halts current iteration (inside while or for)\n",
    "- loops continue its normal execution"
   ]
  },
  {
   "cell_type": "code",
   "execution_count": null,
   "metadata": {
    "collapsed": false
   },
   "outputs": [],
   "source": [
    "spam = [1, 2, 3, 4, 5, 6, 7, 8]\n",
    "eggs = 5\n",
    "while len(spam) > 0:\n",
    "    value = spam.pop()\n",
    "    if value == eggs:\n",
    "        print \"Value found:\", value\n",
    "        break\n",
    "else:                                      # Note that else has the same indentation than while\n",
    "    print \"The right value was not found\""
   ]
  },
  {
   "cell_type": "code",
   "execution_count": null,
   "metadata": {
    "collapsed": false
   },
   "outputs": [],
   "source": [
    "spam = [1, 2, 3, 4, 6, 7, 8]\n",
    "eggs = 5\n",
    "while len(spam) > 0:\n",
    "    value = spam.pop()\n",
    "    if value == eggs:\n",
    "        print \"Value found:\", value\n",
    "        break\n",
    "else:\n",
    "    print \"The right value was not found\""
   ]
  },
  {
   "cell_type": "markdown",
   "metadata": {},
   "source": [
    "**else** clause after a loop is executed if all iterations were run without break statement called"
   ]
  },
  {
   "cell_type": "code",
   "execution_count": null,
   "metadata": {
    "collapsed": true
   },
   "outputs": [],
   "source": [
    "spam = [1, 2, 3]\n",
    "for item in spam:\n",
    "    pass"
   ]
  },
  {
   "cell_type": "markdown",
   "metadata": {},
   "source": [
    "**pass** statement is Python's noop (does nothing)"
   ]
  },
  {
   "cell_type": "markdown",
   "metadata": {},
   "source": [
    "### Let's check exception handling"
   ]
  },
  {
   "cell_type": "code",
   "execution_count": null,
   "metadata": {
    "collapsed": false
   },
   "outputs": [],
   "source": [
    "spam = [1, 2, 3]\n",
    "try:\n",
    "    print spam[5]\n",
    "except:             # Use try and except to capture exceptions\n",
    "    print \"Failed\""
   ]
  },
  {
   "cell_type": "code",
   "execution_count": null,
   "metadata": {
    "collapsed": false
   },
   "outputs": [],
   "source": [
    "spam = {\"one\": 1, \"two\": 2, \"three\": 3}\n",
    "try:\n",
    "    print spam[5]\n",
    "except IndexError as e:      # Inside the except clause 'e' will contain the exception instance\n",
    "    print \"IndexError\", e\n",
    "except KeyError as e:        # Use several except clauses for different types of exceptions\n",
    "    print \"KeyError\", e"
   ]
  },
  {
   "cell_type": "code",
   "execution_count": null,
   "metadata": {
    "collapsed": false
   },
   "outputs": [],
   "source": [
    "try:\n",
    "    print 65 + \"spam\"\n",
    "except (IndexError, KeyError) as e:  # Or even group exception types\n",
    "    print \"Index or Key Error\", e\n",
    "except TypeError as e:\n",
    "    print \"TypeError\", e"
   ]
  },
  {
   "cell_type": "code",
   "execution_count": null,
   "metadata": {
    "collapsed": false
   },
   "outputs": [],
   "source": [
    "try:\n",
    "    print 65 + 2\n",
    "except (IndexError, KeyError), e:\n",
    "    print \"Index or Key Error\", e\n",
    "except TypeError, e:\n",
    "    print \"TypeError\", e\n",
    "else:\n",
    "    print \"No exception\"           # Use else clause to run code in case no exception was raised"
   ]
  },
  {
   "cell_type": "code",
   "execution_count": null,
   "metadata": {
    "collapsed": false
   },
   "outputs": [],
   "source": [
    "try:\n",
    "    print 65 + \"spam\"\n",
    "    raise AttributeError           # Use 'raise' to launch yourself exceptions\n",
    "except (IndexError, KeyError), e:\n",
    "    print \"Index or Key Error\", e\n",
    "except TypeError, e:\n",
    "    print \"TypeError\", e\n",
    "else:\n",
    "    print \"No exception\"\n",
    "finally:\n",
    "    print \"Finally we clean up\"    # Use finally clause to ALWAYS execute clean up code"
   ]
  },
  {
   "cell_type": "code",
   "execution_count": null,
   "metadata": {
    "collapsed": false
   },
   "outputs": [],
   "source": [
    "try:\n",
    "    print 65 + 2\n",
    "except (IndexError, KeyError), e:\n",
    "    print \"Index or Key Error\", e\n",
    "    raise                          # Use 'raise' without arguments to relaunch the exception\n",
    "except TypeError, e:\n",
    "    print \"TypeError\", e\n",
    "else:\n",
    "    print \"No exception\"\n",
    "finally:\n",
    "    print \"Finally we clean up\"    # Use finally clause to ALWAYS execute clean up code"
   ]
  },
  {
   "cell_type": "markdown",
   "metadata": {},
   "source": [
    "### Let's see another construction"
   ]
  },
  {
   "cell_type": "code",
   "execution_count": null,
   "metadata": {
    "collapsed": true
   },
   "outputs": [],
   "source": [
    "try:\n",
    "    f = open(\"tmp_file.txt\", \"a\")\n",
    "except:\n",
    "    print \"Exception opening file\"\n",
    "else:\n",
    "    try:\n",
    "        f.write(\"I'm writing to a file...\\n\")\n",
    "    except:\n",
    "        print \"Can not write to a file\"\n",
    "    finally:\n",
    "        f.close()"
   ]
  },
  {
   "cell_type": "markdown",
   "metadata": {},
   "source": [
    "### Not pythonic, too much code for only three real lines"
   ]
  },
  {
   "cell_type": "code",
   "execution_count": null,
   "metadata": {
    "collapsed": true
   },
   "outputs": [],
   "source": [
    "try:\n",
    "    with open(\"tmp_file.txt\", \"a\") as f:\n",
    "        f.write(\"I'm writing to a file...\\n\")\n",
    "except:\n",
    "    print \"Can not open file for writing\""
   ]
  },
  {
   "cell_type": "markdown",
   "metadata": {},
   "source": [
    "#### Where is the file closed? What happens if an exception is raised?\n",
    "\n",
    "### Python context managers\n",
    "  - Encapsulate common patterns used wrapping code blocks where real runs the program logic\n",
    "     -  Usually try/except/finally patterns\n",
    "  - Several uses:\n",
    "     - Automatic cleanup, closing files or network or DB connections when exiting the context block\n",
    "     - Set temporary environment, like enable/disable logging, timing, profiling...\n",
    "  - Use the 'with' and optionally the 'as' statements to open a context manager\n",
    "     - It is automatically closed when code execution goes outside the block"
   ]
  },
  {
   "cell_type": "markdown",
   "metadata": {},
   "source": [
    "# Comprehension"
   ]
  },
  {
   "cell_type": "code",
   "execution_count": null,
   "metadata": {
    "collapsed": false
   },
   "outputs": [],
   "source": [
    "spam = [0, 1, 2, 3, 4]\n",
    "eggs = [0, 10, 20, 30]\n",
    "fooo = []\n",
    "\n",
    "for s in spam:\n",
    "    for e in eggs:\n",
    "        if s > 1 and e > 1:\n",
    "            fooo.append(s * e)\n",
    "\n",
    "print fooo"
   ]
  },
  {
   "cell_type": "markdown",
   "metadata": {},
   "source": [
    "### Short code, right?"
   ]
  },
  {
   "cell_type": "code",
   "execution_count": null,
   "metadata": {
    "collapsed": false
   },
   "outputs": [],
   "source": [
    "spam = [0, 1, 2, 3, 4]\n",
    "eggs = [0, 10, 20, 30]\n",
    "fooo = [s * e for s in spam for e in eggs if s > 1 and e > 1]\n",
    "print fooo"
   ]
  },
  {
   "cell_type": "markdown",
   "metadata": {},
   "source": [
    "### What about now?"
   ]
  },
  {
   "cell_type": "code",
   "execution_count": null,
   "metadata": {
    "collapsed": false
   },
   "outputs": [],
   "source": [
    "fooo = [s * s for s in spam]  # This is the most basic list comprehension construction\n",
    "print fooo"
   ]
  },
  {
   "cell_type": "code",
   "execution_count": null,
   "metadata": {
    "collapsed": false
   },
   "outputs": [],
   "source": [
    "fooo = [s * s for s in spam if s > 1]  # We can add 'if' clauses\n",
    "print fooo"
   ]
  },
  {
   "cell_type": "code",
   "execution_count": null,
   "metadata": {
    "collapsed": true
   },
   "outputs": [],
   "source": [
    "spam = [1, 2, 3, 4]\n",
    "eggs = [0, -1, -2, -3]\n",
    "fooo = [l.upper() * (s + e) for s in spam\n",
    "        for e in eggs\n",
    "        for l in \"SpaM aNd eGgs aNd stuFf\"\n",
    "        if (s + e) >= 1\n",
    "        if l.islower()\n",
    "        if ord(l) % 2 == 0]                 # We can add lots of 'for' and 'if' clauses\n",
    "print fooo    "
   ]
  },
  {
   "cell_type": "code",
   "execution_count": null,
   "metadata": {
    "collapsed": false
   },
   "outputs": [],
   "source": [
    "spam = [1, 2, 3, 4]\n",
    "eggs = [10, 20, 30, 40]\n",
    "fooo = [[s * e for s in spam] for e in eggs]  # It is possible to nest list comprehensions\n",
    "print fooo"
   ]
  },
  {
   "cell_type": "markdown",
   "metadata": {},
   "source": [
    "- List comprehension is faster than standard loops (low level C optimizations)\n",
    "- However, built-in functions are still faster (see Functional and iterables tools module)"
   ]
  },
  {
   "cell_type": "markdown",
   "metadata": {},
   "source": [
    "### There is also dict comprehension (2.7 or higher)"
   ]
  },
  {
   "cell_type": "code",
   "execution_count": null,
   "metadata": {
    "collapsed": false
   },
   "outputs": [],
   "source": [
    "spam = ['monday', 'tuesday',\n",
    "        'wednesday', 'thursday',\n",
    "        'friday']\n",
    "fooo = {s: len(s) for s in spam}  # The syntax is a merge of list comprehension and dicts\n",
    "print fooo"
   ]
  },
  {
   "cell_type": "code",
   "execution_count": null,
   "metadata": {
    "collapsed": false
   },
   "outputs": [],
   "source": [
    "spam = [(0, 'monday'), (1, 'tuesday'),\n",
    "        (2, 'wednesday'), (3, 'thursday'),\n",
    "        (4, 'friday')]\n",
    "fooo = {s: idx for idx, s in spam}  # Tuple unpacking is useful here\n",
    "print fooo"
   ]
  },
  {
   "cell_type": "code",
   "execution_count": null,
   "metadata": {
    "collapsed": false
   },
   "outputs": [],
   "source": [
    "spam = ['monday', 'tuesday',\n",
    "        'wednesday', 'thursday',\n",
    "        'friday']\n",
    "fooo = {s: len(s) for s in spam if s[0] in \"tm\"}  # Ofc, you can add more 'for' and 'if' clauses\n",
    "print fooo"
   ]
  },
  {
   "cell_type": "markdown",
   "metadata": {},
   "source": [
    "# Sources\n",
    "- http://docs.python.org/2/library/stdtypes.html#boolean-operations-and-or-not\n",
    "- http://docs.python.org/2/tutorial/controlflow.html#if-statements\n",
    "- http://docs.python.org/2/reference/compound_stmts.html\n",
    "- http://docs.python.org/2/reference/expressions.html#conditional-expressions\n",
    "- http://docs.python.org/2/reference/simple_stmts.html\n",
    "- http://www.python.org/dev/peps/pep-0343/\n",
    "- http://docs.python.org/2/reference/compound_stmts.html#the-with-statement\n",
    "- http://docs.python.org/2/tutorial/classes.html#iterators\n",
    "- http://docs.python.org/2/library/stdtypes.html#iterator-types\n",
    "- http://docs.python.org/2/tutorial/datastructures.html#list-comprehensions\n",
    "- http://www.python.org/dev/peps/pep-0274/"
   ]
  }
 ],
 "metadata": {
  "kernelspec": {
   "display_name": "Python 2",
   "language": "python",
   "name": "python2"
  },
  "language_info": {
   "codemirror_mode": {
    "name": "ipython",
    "version": 2
   },
   "file_extension": ".py",
   "mimetype": "text/x-python",
   "name": "python",
   "nbconvert_exporter": "python",
   "pygments_lexer": "ipython2",
   "version": "2.7.12"
  }
 },
 "nbformat": 4,
 "nbformat_minor": 1
}
