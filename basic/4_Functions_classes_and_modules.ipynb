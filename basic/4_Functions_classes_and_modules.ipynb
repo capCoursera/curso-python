{
 "cells": [
  {
   "cell_type": "markdown",
   "metadata": {},
   "source": [
    "# Functions"
   ]
  },
  {
   "cell_type": "markdown",
   "metadata": {},
   "source": [
    "### Let's declare a function"
   ]
  },
  {
   "cell_type": "code",
   "execution_count": null,
   "metadata": {
    "collapsed": false
   },
   "outputs": [],
   "source": [
    "def spam():       # Functions are declared with the 'def' keyword, its name, parrentheses and a colon\n",
    "    print \"spam\"  # Remeber to use indentation!\n",
    "\n",
    "spam()  # Functions are executed with its name followed by parentheses"
   ]
  },
  {
   "cell_type": "markdown",
   "metadata": {},
   "source": [
    "### Let's declare a function with arguments"
   ]
  },
  {
   "cell_type": "code",
   "execution_count": null,
   "metadata": {
    "collapsed": false
   },
   "outputs": [],
   "source": [
    "def eggs(arg1):         # Functions arguments are declared inside the parentheses\n",
    "    print \"eggs\", arg1\n",
    "\n",
    "eggs(\"eggssss\")  # Function calls specify arguments inside parentheses"
   ]
  },
  {
   "cell_type": "code",
   "execution_count": null,
   "metadata": {
    "collapsed": false
   },
   "outputs": [],
   "source": [
    "def func(arg1, arg2, arg3):         # There is no limit of arguments\n",
    "    print \"func\", arg1, arg2, arg3\n",
    "\n",
    "func(\"spam\", \"eggs\", \"fooo\")"
   ]
  },
  {
   "cell_type": "code",
   "execution_count": null,
   "metadata": {
    "collapsed": false
   },
   "outputs": [],
   "source": [
    "print func(\"spam\", \"eggs\", \"fooo\")  # By default functions return None"
   ]
  },
  {
   "cell_type": "code",
   "execution_count": null,
   "metadata": {
    "collapsed": false
   },
   "outputs": [],
   "source": [
    "def my_sum(arg1, arg2):\n",
    "    return arg1 + arg2    # Use the return keyword to output any result\n",
    "\n",
    "print my_sum(3, 5)"
   ]
  },
  {
   "cell_type": "code",
   "execution_count": null,
   "metadata": {
    "collapsed": false
   },
   "outputs": [],
   "source": [
    "print my_sum(3.333, 5)\n",
    "print my_sum(\"spam\", \"eggs\")  # Given that Python is a dynamic language we can reuse the same method"
   ]
  },
  {
   "cell_type": "markdown",
   "metadata": {},
   "source": [
    "### Let's declare a function with arguments and default values"
   ]
  },
  {
   "cell_type": "code",
   "execution_count": null,
   "metadata": {
    "collapsed": false
   },
   "outputs": [],
   "source": [
    "def my_pow(arg1, arg2=2):  # It is possible to define deault values for the arguments, always after arguments without default values\n",
    "    return arg1 ** arg2\n",
    "\n",
    "print my_pow(3)"
   ]
  },
  {
   "cell_type": "code",
   "execution_count": null,
   "metadata": {
    "collapsed": false
   },
   "outputs": [],
   "source": [
    "def my_func(arg1, arg2=2, arg3=3, arg4=4):\n",
    "    return arg1 ** arg2 + arg3 ** arg4\n",
    "\n",
    "print my_func(3, arg3=2)  # Use keyword arguments to call skip some of the arguments with default value"
   ]
  },
  {
   "cell_type": "markdown",
   "metadata": {},
   "source": [
    "### Let's use an arbitrary arguments list"
   ]
  },
  {
   "cell_type": "code",
   "execution_count": null,
   "metadata": {
    "collapsed": false
   },
   "outputs": [],
   "source": [
    "def my_func(arg1=1, arg2=2, *args):  # This arbitrary list is a (kind-off) tuple of positional arguments\n",
    "    print args\n",
    "    return arg1 + arg2\n",
    "\n",
    "print my_func(2, 3)"
   ]
  },
  {
   "cell_type": "code",
   "execution_count": null,
   "metadata": {
    "collapsed": false
   },
   "outputs": [],
   "source": [
    "print my_func(2, 3, 5, 7)"
   ]
  },
  {
   "cell_type": "code",
   "execution_count": null,
   "metadata": {
    "collapsed": false
   },
   "outputs": [],
   "source": [
    "spam = (5, 7)\n",
    "print my_func(2, 3, *spam)  # It is possible to unpack a tuple or list as an arbitrary list of arguments"
   ]
  },
  {
   "cell_type": "markdown",
   "metadata": {},
   "source": [
    "### The same applies for arbitrary keyword arguments"
   ]
  },
  {
   "cell_type": "code",
   "execution_count": null,
   "metadata": {
    "collapsed": false
   },
   "outputs": [],
   "source": [
    "def my_func(arg1=1, arg2=2, **kwargs):  # This arbitrary 'args' list is a (kind-off) tuple of positional arguments\n",
    "    print kwargs\n",
    "    return arg1 + arg2\n",
    "\n",
    "print my_func(2, 3)"
   ]
  },
  {
   "cell_type": "code",
   "execution_count": null,
   "metadata": {
    "collapsed": false
   },
   "outputs": [],
   "source": [
    "print my_func(2, 3, param3=5, param4=7)\n",
    "\n",
    "spam = {\"param3\": 5, \"param4\": 7}\n",
    "print my_func(2, 3, **spam)  # It is possible to unpack a tuple or list as an arbitrary list of arguments"
   ]
  },
  {
   "cell_type": "markdown",
   "metadata": {},
   "source": [
    "### Functions are first classed objects"
   ]
  },
  {
   "cell_type": "code",
   "execution_count": null,
   "metadata": {
    "collapsed": true
   },
   "outputs": [],
   "source": [
    "def function_caller(f):\n",
    "    f()"
   ]
  },
  {
   "cell_type": "code",
   "execution_count": null,
   "metadata": {
    "collapsed": true
   },
   "outputs": [],
   "source": [
    "def func_as_arg():\n",
    "    print 'There should be one-- and preferably only one --obvious way to do it.'"
   ]
  },
  {
   "cell_type": "code",
   "execution_count": null,
   "metadata": {
    "collapsed": false
   },
   "outputs": [],
   "source": [
    "function_caller(func_as_arg)  # Functions can be passed as arguments"
   ]
  },
  {
   "cell_type": "markdown",
   "metadata": {},
   "source": [
    "### REMEMBER:\n",
    " - Functions are declared with the 'def' keyword, its name, parrentheses and a colon\n",
    "     - Specify arguments inside the parentheses\n",
    "     - Define arguments' default values with an equal, after arguments without def val\n",
    "     - Specify arbitrary arguments or keyword arguments with *args or **kwargs\n",
    "        - Actually only the asterisks matter, the name is up to you\n",
    " - Use indentation for the body of the function, typically 4 spaces per level\n",
    " - Functions are executed with its name followed by parentheses\n",
    "     - Provide input arguments inside the parentheses\n",
    "     - Provide keywords arguments specifying their name\n",
    " - Functions can be declared and called outside classes\n",
    " - Functions are first classed objects\n",
    "     - You can pass them as arguments\n"
   ]
  },
  {
   "cell_type": "markdown",
   "metadata": {},
   "source": [
    "### Classes"
   ]
  },
  {
   "cell_type": "markdown",
   "metadata": {},
   "source": [
    "### Let's see how to declare custom classes"
   ]
  },
  {
   "cell_type": "code",
   "execution_count": null,
   "metadata": {
    "collapsed": false
   },
   "outputs": [],
   "source": [
    "class Spam:       # 'class' keyword, camel case class name and colon :\n",
    "    pass\n",
    "\n",
    "spammer = Spam()  # Class instantiation: spammer becomes an instance of Spam\n",
    "\n",
    "print spammer"
   ]
  },
  {
   "cell_type": "code",
   "execution_count": null,
   "metadata": {
    "collapsed": true
   },
   "outputs": [],
   "source": [
    "class Eggs(Spam):                       # Ancestor superclasses inside parentheses for inheritance\n",
    "    a_class_attr = \"class_val\"          # Class attributes inside the body, outside class methods. Must have value\n",
    "\n",
    "    def __init__(self, attr_val):       # __init__ is called in the instances initialization (not constructor)\n",
    "        self.attr = attr_val\n",
    "\n",
    "    def method(self, arg1, arg2=None):  # Method declaration. Indented and receiving self (the instance)\n",
    "        print \"'method' of\", self\n",
    "        print self.attr, arg1, arg2     # Access instance attributes using self with a dot .\n",
    "\n",
    "    def second_method(self):\n",
    "        self.attr = 99.99\n",
    "        self.method(\"FROM 2nd\")         # Methos may call other methods using self with a dot ."
   ]
  },
  {
   "cell_type": "markdown",
   "metadata": {},
   "source": [
    "### Still easy?"
   ]
  },
  {
   "cell_type": "code",
   "execution_count": null,
   "metadata": {
    "collapsed": false
   },
   "outputs": [],
   "source": [
    "egger = Eggs(12.345)                    # Provide __init__ arguments in the instantiation\n",
    "print egger"
   ]
  },
  {
   "cell_type": "code",
   "execution_count": null,
   "metadata": {
    "collapsed": false
   },
   "outputs": [],
   "source": [
    "print egger.attr                        # Retrieve instance attributes with a dot\n",
    "\n",
    "print egger.a_class_attr                # Retrieve class attributes with a dot"
   ]
  },
  {
   "cell_type": "code",
   "execution_count": null,
   "metadata": {
    "collapsed": false
   },
   "outputs": [],
   "source": [
    "print Eggs.a_class_attr\n",
    "\n",
    "egger.a_class_attr = \"new value\""
   ]
  },
  {
   "cell_type": "code",
   "execution_count": null,
   "metadata": {
    "collapsed": false
   },
   "outputs": [],
   "source": [
    "print egger.a_class_attr\n",
    "print Eggs.a_class_attr"
   ]
  },
  {
   "cell_type": "markdown",
   "metadata": {},
   "source": [
    "- Class attributes can be retrieved directly from the class\n",
    "- Instances only modify class attributes value locally"
   ]
  },
  {
   "cell_type": "code",
   "execution_count": null,
   "metadata": {
    "collapsed": false
   },
   "outputs": [],
   "source": [
    "print Eggs"
   ]
  },
  {
   "cell_type": "markdown",
   "metadata": {},
   "source": [
    "### Classes are objects too:\n",
    "- Python evaluates its declaration and instantiates a special object\n",
    "- This object is called each time a new class instance is created"
   ]
  },
  {
   "cell_type": "code",
   "execution_count": null,
   "metadata": {
    "collapsed": false
   },
   "outputs": [],
   "source": [
    "egger.method(\"value1\", \"value2\")\n",
    "\n",
    "egger.second_method()\n",
    "\n",
    "print egger.method\n",
    "\n",
    "print Eggs.method"
   ]
  },
  {
   "cell_type": "code",
   "execution_count": null,
   "metadata": {
    "collapsed": false
   },
   "outputs": [],
   "source": [
    "inst_method = egger.method\n",
    "inst_method(\"valueA\", \"valueB\")"
   ]
  },
  {
   "cell_type": "markdown",
   "metadata": {},
   "source": [
    "### Methods are also attributes (bounded) of classes and instances\n",
    "### Time to talk about new-style classes"
   ]
  },
  {
   "cell_type": "code",
   "execution_count": null,
   "metadata": {
    "collapsed": true
   },
   "outputs": [],
   "source": [
    "class Spam:\n",
    "    def spam_method(self):\n",
    "        print self.__class__  # __class__ is a special attribute containing the class of any object\n",
    "        print type(self)\n",
    "\n",
    "spammer = Spam()\n"
   ]
  },
  {
   "cell_type": "code",
   "execution_count": null,
   "metadata": {
    "collapsed": false
   },
   "outputs": [],
   "source": [
    "spammer.spam_method()\n",
    "\n",
    "print spammer\n",
    "print type(spammer)"
   ]
  },
  {
   "cell_type": "code",
   "execution_count": null,
   "metadata": {
    "collapsed": false
   },
   "outputs": [],
   "source": [
    "# Why type says it is an 'instance' and not a 'Spam'?\n",
    "class Spam(object):           # Inherit from 'object'\n",
    "    def spam_method(self):\n",
    "        print self.__class__\n",
    "        print type(self)\n",
    "\n",
    "spammer = Spam()\n",
    "\n",
    "print spammer\n",
    "print type(spammer)           # This is a new-style class"
   ]
  },
  {
   "cell_type": "markdown",
   "metadata": {},
   "source": [
    " - New-style classes were introduced in Python 2.2 to unify classes and types\n",
    " - Provide unified object model with a full meta-model (more in the Advanced block)\n",
    " - Other benefits: subclass most built-in types, descriptors (slots, properties, static and class methods)...\n",
    " - By default all classes are old-style until Python 3\n",
    "    - In Python 2 you have to inherit from 'object' to use new-style\n",
    "    - You must avoid old-style\n",
    "    - So you must inherit ALWAYS from 'object'\n",
    "\n",
    " - Other changes introduced Python 2.2: __new__, new dir() behavior, metaclasses, new MRO (also in 2.3)\n",
    "\n",
    " - More info: http://www.python.org/doc/newstyle/"
   ]
  },
  {
   "cell_type": "code",
   "execution_count": null,
   "metadata": {
    "collapsed": false
   },
   "outputs": [],
   "source": [
    "class OldStyleClass():\n",
    "    pass\n",
    "\n",
    "old_inst = OldStyleClass()\n",
    "print type(old_inst)"
   ]
  },
  {
   "cell_type": "code",
   "execution_count": null,
   "metadata": {
    "collapsed": false
   },
   "outputs": [],
   "source": [
    "# Let's inherit from an old-style class\n",
    "class NewStyleSubClass(OldStyleClass, object):  # Multiple inheritance\n",
    "    pass\n",
    "\n",
    "new_inst = NewStyleSubClass()\n",
    "print type(new_inst)"
   ]
  },
  {
   "cell_type": "markdown",
   "metadata": {},
   "source": [
    "### Inherit from both old-style classes and 'object' to obtain new-style classes\n",
    "### Let's play a bit with inheritance"
   ]
  },
  {
   "cell_type": "code",
   "execution_count": null,
   "metadata": {
    "collapsed": true
   },
   "outputs": [],
   "source": [
    "class Spam(object):\n",
    "    spam_class_attr = \"spam\"                             # Class attributes must have value always (you may use None...)\n",
    "\n",
    "    def spam_method(self):\n",
    "        print \"spam_method\", self, self.spam_class_attr\n",
    "        print self.__class__\n",
    "\n",
    "\n",
    "class Eggs(object):\n",
    "    eggs_class_attr = \"eggs\"\n",
    "\n",
    "    def eggs_method(self):\n",
    "        print \"eggs_method\", self, self.eggs_class_attr\n",
    "        print self.__class__"
   ]
  },
  {
   "cell_type": "code",
   "execution_count": null,
   "metadata": {
    "collapsed": true
   },
   "outputs": [],
   "source": [
    "class Fooo(Spam, Eggs):                                  # Specify a list of ancestor superclasses\n",
    "    fooo_class_attr = \"fooo\"\n",
    "\n",
    "    def fooo_method(self):\n",
    "        self.spam_method()\n",
    "        self.eggs_method()                               # Retrieve superclasses attributes as if they were yours\n",
    "        print \"fooo_method\", self, self.fooo_class_attr\n",
    "        print self.__class__"
   ]
  },
  {
   "cell_type": "code",
   "execution_count": null,
   "metadata": {
    "collapsed": false
   },
   "outputs": [],
   "source": [
    "foooer = Fooo()\n",
    "\n",
    "foooer.fooo_method()"
   ]
  },
  {
   "cell_type": "code",
   "execution_count": null,
   "metadata": {
    "collapsed": false
   },
   "outputs": [],
   "source": [
    "foooer.spam_method()\n",
    "\n",
    "foooer.eggs_method()  # self is ALWAYS an instance of the subclass"
   ]
  },
  {
   "cell_type": "code",
   "execution_count": null,
   "metadata": {
    "collapsed": false
   },
   "outputs": [],
   "source": [
    "print foooer.spam_class_attr\n",
    "print foooer.eggs_class_attr\n",
    "print foooer.fooo_class_attr  # We have access to all own and ancestors' attributes"
   ]
  },
  {
   "cell_type": "code",
   "execution_count": null,
   "metadata": {
    "collapsed": true
   },
   "outputs": [],
   "source": [
    "# Given that Python is a dynamic language...\n",
    "\n",
    "class Spam(object):\n",
    "    pass\n",
    "\n",
    "spammer = Spam()\n",
    "spammer.name = \"John\"\n",
    "spammer.surname = \"Doe\"\n",
    "spammer.age = 65\n",
    "spammer.male = True      # ... this is legal"
   ]
  },
  {
   "cell_type": "code",
   "execution_count": null,
   "metadata": {
    "collapsed": false
   },
   "outputs": [],
   "source": [
    "print spammer.name\n",
    "print spammer.surname\n",
    "print spammer.age\n",
    "print spammer.male"
   ]
  },
  {
   "cell_type": "markdown",
   "metadata": {},
   "source": [
    "### What about static or class methods?"
   ]
  },
  {
   "cell_type": "code",
   "execution_count": null,
   "metadata": {
    "collapsed": true
   },
   "outputs": [],
   "source": [
    "class Spam(object):\n",
    "    def method(self, arg=None):\n",
    "        print \"Called 'method' with\", self, arg\n",
    "\n",
    "    @classmethod                                    # This is a decorator\n",
    "    def cls_method(cls, arg=None):\n",
    "        print \"Called 'cls_method' with\", cls, arg\n",
    "\n",
    "    @staticmethod                                   # This is another decorator\n",
    "    def st_method(arg=None):\n",
    "        print \"Called 'st_method' with\", arg\n",
    "\n",
    "spammer = Spam()"
   ]
  },
  {
   "cell_type": "code",
   "execution_count": null,
   "metadata": {
    "collapsed": false
   },
   "outputs": [],
   "source": [
    "spammer.method(10)"
   ]
  },
  {
   "cell_type": "code",
   "execution_count": null,
   "metadata": {
    "collapsed": false
   },
   "outputs": [],
   "source": [
    "Spam.method(spammer, 100)   # Although it works, this is not exacty the same"
   ]
  },
  {
   "cell_type": "code",
   "execution_count": null,
   "metadata": {
    "collapsed": false
   },
   "outputs": [],
   "source": [
    "print spammer.method\n",
    "print Spam.method           # It is unbounded, not related with an instance"
   ]
  },
  {
   "cell_type": "code",
   "execution_count": null,
   "metadata": {
    "collapsed": false
   },
   "outputs": [],
   "source": [
    "spammer.cls_method(20)\n",
    "\n",
    "Spam.cls_method(200)"
   ]
  },
  {
   "cell_type": "code",
   "execution_count": null,
   "metadata": {
    "collapsed": false
   },
   "outputs": [],
   "source": [
    "print spammer.cls_method\n",
    "print Spam.cls_method     # Both are a bounded method... to the class"
   ]
  },
  {
   "cell_type": "code",
   "execution_count": null,
   "metadata": {
    "collapsed": false
   },
   "outputs": [],
   "source": [
    "spammer.st_method(30)\n",
    "\n",
    "Spam.st_method(300)"
   ]
  },
  {
   "cell_type": "code",
   "execution_count": null,
   "metadata": {
    "collapsed": false
   },
   "outputs": [],
   "source": [
    "print spammer.st_method\n",
    "print Spam.st_method     # Both are a plain standard functions"
   ]
  },
  {
   "cell_type": "markdown",
   "metadata": {},
   "source": [
    "### REMEMBER:\n",
    " - Classes are declared with the 'class' keyword, its name in camel case and a colon\n",
    "     - Specify ancestors superclasses list between parrentheses after the class name\n",
    "     - So you must inherit ALWAYS from 'object' to have new-style classes\n",
    " - Use indentation for class body declarations (attributes and methods)\n",
    " - Specify class attributes (with value) inside the class, outside any method\n",
    " - Specify methods inside the body, with indentation (method body has 2x indentation)\n",
    "     - Method's first parameter is always self, the instance whose method is being called\n",
    "     - Use self to access attributes and other methods of the instance\n",
    " - When inheriting, ancestors attributes and methods can be accessed transparently\n",
    " - There are no private attributes in Python\n",
    "     - There is a convention to use underscore _ prefix\n",
    " - Classes definition is not closed. At any time you can add (or delete) an attribute\n",
    " - classmethod to specify class methods; bounded to the class, not its instances\n",
    "    - Used to implement alternative constructors (e.g. dict.copy)\n",
    " - staticmethod to specify static methods; standard functions declared inside the class\n",
    "    - Only for organisation, it is equivalent to declare the function in the class module"
   ]
  },
  {
   "cell_type": "markdown",
   "metadata": {},
   "source": [
    "# Modules\n",
    "### What is it a python module?\n",
    "- A module is a file containing Python definitions and statements.\n",
    "- Python interpreter reads the file and evaluates its definitions and statements.\n",
    "- Python does not accept dashes - in modules names"
   ]
  },
  {
   "cell_type": "code",
   "execution_count": null,
   "metadata": {
    "collapsed": false
   },
   "outputs": [],
   "source": [
    "print \"'__name__' value:\", __name__"
   ]
  },
  {
   "cell_type": "markdown",
   "metadata": {},
   "source": [
    "- The file name is the module name with the suffix .py appended.\n",
    "- Global variable '__name__' contains the name of current module.\n",
    "- Functions and classes also have a variable containing their module name"
   ]
  },
  {
   "cell_type": "code",
   "execution_count": null,
   "metadata": {
    "collapsed": true
   },
   "outputs": [],
   "source": [
    "def func():\n",
    "    print \"Called func in\", __name__"
   ]
  },
  {
   "cell_type": "code",
   "execution_count": null,
   "metadata": {
    "collapsed": false
   },
   "outputs": [],
   "source": [
    "print \"'func.__module__' value:\", func.__module__"
   ]
  },
  {
   "cell_type": "code",
   "execution_count": null,
   "metadata": {
    "collapsed": false
   },
   "outputs": [],
   "source": [
    "!cat my_modules.py"
   ]
  },
  {
   "cell_type": "code",
   "execution_count": null,
   "metadata": {
    "collapsed": false
   },
   "outputs": [],
   "source": [
    "!python my_modules.py"
   ]
  },
  {
   "cell_type": "code",
   "execution_count": null,
   "metadata": {
    "collapsed": false
   },
   "outputs": [],
   "source": [
    "import my_modules"
   ]
  },
  {
   "cell_type": "markdown",
   "metadata": {},
   "source": [
    "### The module name depends on how the module is being evaluated (imported or executed)\n",
    "### Use if __name__ == \"__main__\": to detect when a module (script) is imported or executed"
   ]
  },
  {
   "cell_type": "code",
   "execution_count": null,
   "metadata": {
    "collapsed": true
   },
   "outputs": [],
   "source": [
    "# What will it happen if we import the module again?\n",
    "import my_modules"
   ]
  },
  {
   "cell_type": "code",
   "execution_count": null,
   "metadata": {
    "collapsed": true
   },
   "outputs": [],
   "source": [
    "### All code is evaluated (executed) only once the first time it is imported"
   ]
  },
  {
   "cell_type": "code",
   "execution_count": null,
   "metadata": {
    "collapsed": false
   },
   "outputs": [],
   "source": [
    "func()\n",
    "my_modules.func()"
   ]
  },
  {
   "cell_type": "code",
   "execution_count": null,
   "metadata": {
    "collapsed": false
   },
   "outputs": [],
   "source": [
    "from my_modules import func\n",
    "func()"
   ]
  },
  {
   "cell_type": "code",
   "execution_count": null,
   "metadata": {
    "collapsed": false
   },
   "outputs": [],
   "source": [
    "func()"
   ]
  },
  {
   "cell_type": "code",
   "execution_count": null,
   "metadata": {
    "collapsed": false
   },
   "outputs": [],
   "source": [
    "!rm -rf basic_tmp\n",
    "!mkdir basic_tmp\n",
    "!echo 'print \"This is the __init__.py\", __name__\\n' > basic_tmp/__init__.py\n",
    "!cp my_modules.py basic_tmp"
   ]
  },
  {
   "cell_type": "code",
   "execution_count": null,
   "metadata": {
    "collapsed": false
   },
   "outputs": [],
   "source": [
    "!python -c \"import basic_tmp.my_modules\""
   ]
  },
  {
   "cell_type": "markdown",
   "metadata": {},
   "source": [
    "### Packages are folders with a __init__.py file    \n",
    "- This __init__.py is also evaluated, so it may contain code\n",
    "- The __init__.py is actually the package (check its module name)\n",
    "- The module name depends on the packages path"
   ]
  },
  {
   "cell_type": "code",
   "execution_count": null,
   "metadata": {
    "collapsed": false
   },
   "outputs": [],
   "source": [
    "!python -c \"from basic_tmp.my_modules import func;func();print my_modules\""
   ]
  },
  {
   "cell_type": "code",
   "execution_count": null,
   "metadata": {
    "collapsed": false
   },
   "outputs": [],
   "source": [
    "!python -c \"from basic_tmp.my_modules import func as the_module;the_module();print the_module.__name__\""
   ]
  },
  {
   "cell_type": "markdown",
   "metadata": {},
   "source": [
    "LESSONS LEARNT:\n",
    " - Modules are objects too, and their variables, functions and classes are their attributes\n",
    " - Modules can be imported in different ways:\n",
    "    - import packages.path.to.module.module_name\n",
    "    - from packages.path.to.module import module_name_1, module_name_2\n",
    "    - from packages.path.to.module import (module_name_1, module_name_2,\n",
    "                                           module_name_3, module_name_4)\n",
    "    - from packages.path.to.module import module_name as new_module_name\n",
    "        - You are binding the module to another name, like you do with lists or strings\n",
    " - Modules is indepent on how you call (bind) them when importing"
   ]
  },
  {
   "cell_type": "code",
   "execution_count": null,
   "metadata": {
    "collapsed": true
   },
   "outputs": [],
   "source": [
    "!rm -rf basic_tmp\n",
    "!mkdir basic_tmp\n",
    "!echo 'print \"This is the __init__.py\", __name__\\n' > basic_tmp/__init__.py\n",
    "!cp my_modules.py basic_tmp\n",
    "!echo 'from my_modules import func\\n' > basic_tmp/__init__.py"
   ]
  },
  {
   "cell_type": "code",
   "execution_count": null,
   "metadata": {
    "collapsed": false
   },
   "outputs": [],
   "source": [
    "!python -c \"from basic_tmp import func;func()\""
   ]
  },
  {
   "cell_type": "markdown",
   "metadata": {},
   "source": [
    "### LESSONS LEARNT:\n",
    "- Importing a package does not import its whole content\n",
    "- __init__.py is used for package initialization and for exposing desired content\n",
    "- Avoids that 3rd parties using your code have to know its internal structure\n",
    "\n",
    "### It is possible to import all contents of a package or module\n",
    "- from packages.path.to.module import *\n",
    "- It is inefficient if you don't need everything\n",
    "- __all__ is used to define what will be imported with the asterisk *"
   ]
  },
  {
   "cell_type": "markdown",
   "metadata": {},
   "source": [
    "## SOURCES:\n",
    "- http://docs.python.org/2/tutorial/controlflow.html#defining-functions\n",
    "- http://docs.python.org/2/tutorial/controlflow.html#more-on-defining-functions\n",
    "- http://docs.python.org/2/reference/compound_stmts.html#function\n",
    "- http://docs.python.org/2/tutorial/classes.html#a-first-look-at-classes\n",
    "- http://docs.python.org/2/library/functions.html#classmethod\n",
    "- http://docs.python.org/2/library/functions.html#staticmethod\n",
    "- http://docs.python.org/2/reference/compound_stmts.html#function\n",
    "- http://docs.python.org/2/reference/datamodel.html#types (see Classes and Class instances)"
   ]
  }
 ],
 "metadata": {
  "kernelspec": {
   "display_name": "Python 2",
   "language": "python",
   "name": "python2"
  },
  "language_info": {
   "codemirror_mode": {
    "name": "ipython",
    "version": 2
   },
   "file_extension": ".py",
   "mimetype": "text/x-python",
   "name": "python",
   "nbconvert_exporter": "python",
   "pygments_lexer": "ipython2",
   "version": "2.7.12"
  }
 },
 "nbformat": 4,
 "nbformat_minor": 1
}
